{
 "cells": [
  {
   "cell_type": "markdown",
   "metadata": {},
   "source": [
    "# Step 1 - Library Import"
   ]
  },
  {
   "cell_type": "code",
   "execution_count": 1,
   "metadata": {},
   "outputs": [],
   "source": [
    "#Import relavent python libraries\n",
    "import pandas as pd  #To Import data\n",
    "import numpy as np   #For Numerical analysis\n",
    "import matplotlib.pyplot as plt #Data plotting and visualization\n",
    "import seaborn as sns #For Data visualization\n",
    "\n",
    "%matplotlib inline"
   ]
  },
  {
   "cell_type": "markdown",
   "metadata": {},
   "source": [
    "# Step 2 - Import Data"
   ]
  },
  {
   "cell_type": "code",
   "execution_count": 2,
   "metadata": {},
   "outputs": [],
   "source": [
    "# read the data using pandas dataframe\n",
    "t_set = pd.read_csv('credit_train.csv')"
   ]
  },
  {
   "cell_type": "code",
   "execution_count": 3,
   "metadata": {
    "scrolled": false
   },
   "outputs": [
    {
     "data": {
      "text/html": [
       "<div>\n",
       "<style scoped>\n",
       "    .dataframe tbody tr th:only-of-type {\n",
       "        vertical-align: middle;\n",
       "    }\n",
       "\n",
       "    .dataframe tbody tr th {\n",
       "        vertical-align: top;\n",
       "    }\n",
       "\n",
       "    .dataframe thead th {\n",
       "        text-align: right;\n",
       "    }\n",
       "</style>\n",
       "<table border=\"1\" class=\"dataframe\">\n",
       "  <thead>\n",
       "    <tr style=\"text-align: right;\">\n",
       "      <th></th>\n",
       "      <th>Loan ID</th>\n",
       "      <th>Customer ID</th>\n",
       "      <th>Loan Status</th>\n",
       "      <th>Current Loan Amount</th>\n",
       "      <th>Term</th>\n",
       "      <th>Credit Score</th>\n",
       "      <th>Annual Income</th>\n",
       "      <th>Years in current job</th>\n",
       "      <th>Home Ownership</th>\n",
       "      <th>Purpose</th>\n",
       "      <th>Monthly Debt</th>\n",
       "      <th>Years of Credit History</th>\n",
       "      <th>Months since last delinquent</th>\n",
       "      <th>Number of Open Accounts</th>\n",
       "      <th>Number of Credit Problems</th>\n",
       "      <th>Current Credit Balance</th>\n",
       "      <th>Maximum Open Credit</th>\n",
       "      <th>Bankruptcies</th>\n",
       "      <th>Tax Liens</th>\n",
       "    </tr>\n",
       "  </thead>\n",
       "  <tbody>\n",
       "    <tr>\n",
       "      <th>0</th>\n",
       "      <td>14dd8831-6af5-400b-83ec-68e61888a048</td>\n",
       "      <td>981165ec-3274-42f5-a3b4-d104041a9ca9</td>\n",
       "      <td>Fully Paid</td>\n",
       "      <td>445412.0</td>\n",
       "      <td>Short Term</td>\n",
       "      <td>709.0</td>\n",
       "      <td>1167493.0</td>\n",
       "      <td>8 years</td>\n",
       "      <td>Home Mortgage</td>\n",
       "      <td>Home Improvements</td>\n",
       "      <td>5214.74</td>\n",
       "      <td>17.2</td>\n",
       "      <td>NaN</td>\n",
       "      <td>6.0</td>\n",
       "      <td>1.0</td>\n",
       "      <td>228190.0</td>\n",
       "      <td>416746.0</td>\n",
       "      <td>1.0</td>\n",
       "      <td>0.0</td>\n",
       "    </tr>\n",
       "    <tr>\n",
       "      <th>1</th>\n",
       "      <td>4771cc26-131a-45db-b5aa-537ea4ba5342</td>\n",
       "      <td>2de017a3-2e01-49cb-a581-08169e83be29</td>\n",
       "      <td>Fully Paid</td>\n",
       "      <td>262328.0</td>\n",
       "      <td>Short Term</td>\n",
       "      <td>NaN</td>\n",
       "      <td>NaN</td>\n",
       "      <td>10+ years</td>\n",
       "      <td>Home Mortgage</td>\n",
       "      <td>Debt Consolidation</td>\n",
       "      <td>33295.98</td>\n",
       "      <td>21.1</td>\n",
       "      <td>8.0</td>\n",
       "      <td>35.0</td>\n",
       "      <td>0.0</td>\n",
       "      <td>229976.0</td>\n",
       "      <td>850784.0</td>\n",
       "      <td>0.0</td>\n",
       "      <td>0.0</td>\n",
       "    </tr>\n",
       "    <tr>\n",
       "      <th>2</th>\n",
       "      <td>4eed4e6a-aa2f-4c91-8651-ce984ee8fb26</td>\n",
       "      <td>5efb2b2b-bf11-4dfd-a572-3761a2694725</td>\n",
       "      <td>Fully Paid</td>\n",
       "      <td>99999999.0</td>\n",
       "      <td>Short Term</td>\n",
       "      <td>741.0</td>\n",
       "      <td>2231892.0</td>\n",
       "      <td>8 years</td>\n",
       "      <td>Own Home</td>\n",
       "      <td>Debt Consolidation</td>\n",
       "      <td>29200.53</td>\n",
       "      <td>14.9</td>\n",
       "      <td>29.0</td>\n",
       "      <td>18.0</td>\n",
       "      <td>1.0</td>\n",
       "      <td>297996.0</td>\n",
       "      <td>750090.0</td>\n",
       "      <td>0.0</td>\n",
       "      <td>0.0</td>\n",
       "    </tr>\n",
       "    <tr>\n",
       "      <th>3</th>\n",
       "      <td>77598f7b-32e7-4e3b-a6e5-06ba0d98fe8a</td>\n",
       "      <td>e777faab-98ae-45af-9a86-7ce5b33b1011</td>\n",
       "      <td>Fully Paid</td>\n",
       "      <td>347666.0</td>\n",
       "      <td>Long Term</td>\n",
       "      <td>721.0</td>\n",
       "      <td>806949.0</td>\n",
       "      <td>3 years</td>\n",
       "      <td>Own Home</td>\n",
       "      <td>Debt Consolidation</td>\n",
       "      <td>8741.90</td>\n",
       "      <td>12.0</td>\n",
       "      <td>NaN</td>\n",
       "      <td>9.0</td>\n",
       "      <td>0.0</td>\n",
       "      <td>256329.0</td>\n",
       "      <td>386958.0</td>\n",
       "      <td>0.0</td>\n",
       "      <td>0.0</td>\n",
       "    </tr>\n",
       "    <tr>\n",
       "      <th>4</th>\n",
       "      <td>d4062e70-befa-4995-8643-a0de73938182</td>\n",
       "      <td>81536ad9-5ccf-4eb8-befb-47a4d608658e</td>\n",
       "      <td>Fully Paid</td>\n",
       "      <td>176220.0</td>\n",
       "      <td>Short Term</td>\n",
       "      <td>NaN</td>\n",
       "      <td>NaN</td>\n",
       "      <td>5 years</td>\n",
       "      <td>Rent</td>\n",
       "      <td>Debt Consolidation</td>\n",
       "      <td>20639.70</td>\n",
       "      <td>6.1</td>\n",
       "      <td>NaN</td>\n",
       "      <td>15.0</td>\n",
       "      <td>0.0</td>\n",
       "      <td>253460.0</td>\n",
       "      <td>427174.0</td>\n",
       "      <td>0.0</td>\n",
       "      <td>0.0</td>\n",
       "    </tr>\n",
       "  </tbody>\n",
       "</table>\n",
       "</div>"
      ],
      "text/plain": [
       "                                Loan ID                           Customer ID  \\\n",
       "0  14dd8831-6af5-400b-83ec-68e61888a048  981165ec-3274-42f5-a3b4-d104041a9ca9   \n",
       "1  4771cc26-131a-45db-b5aa-537ea4ba5342  2de017a3-2e01-49cb-a581-08169e83be29   \n",
       "2  4eed4e6a-aa2f-4c91-8651-ce984ee8fb26  5efb2b2b-bf11-4dfd-a572-3761a2694725   \n",
       "3  77598f7b-32e7-4e3b-a6e5-06ba0d98fe8a  e777faab-98ae-45af-9a86-7ce5b33b1011   \n",
       "4  d4062e70-befa-4995-8643-a0de73938182  81536ad9-5ccf-4eb8-befb-47a4d608658e   \n",
       "\n",
       "  Loan Status  Current Loan Amount        Term  Credit Score  Annual Income  \\\n",
       "0  Fully Paid             445412.0  Short Term         709.0      1167493.0   \n",
       "1  Fully Paid             262328.0  Short Term           NaN            NaN   \n",
       "2  Fully Paid           99999999.0  Short Term         741.0      2231892.0   \n",
       "3  Fully Paid             347666.0   Long Term         721.0       806949.0   \n",
       "4  Fully Paid             176220.0  Short Term           NaN            NaN   \n",
       "\n",
       "  Years in current job Home Ownership             Purpose  Monthly Debt  \\\n",
       "0              8 years  Home Mortgage   Home Improvements       5214.74   \n",
       "1            10+ years  Home Mortgage  Debt Consolidation      33295.98   \n",
       "2              8 years       Own Home  Debt Consolidation      29200.53   \n",
       "3              3 years       Own Home  Debt Consolidation       8741.90   \n",
       "4              5 years           Rent  Debt Consolidation      20639.70   \n",
       "\n",
       "   Years of Credit History  Months since last delinquent  \\\n",
       "0                     17.2                           NaN   \n",
       "1                     21.1                           8.0   \n",
       "2                     14.9                          29.0   \n",
       "3                     12.0                           NaN   \n",
       "4                      6.1                           NaN   \n",
       "\n",
       "   Number of Open Accounts  Number of Credit Problems  Current Credit Balance  \\\n",
       "0                      6.0                        1.0                228190.0   \n",
       "1                     35.0                        0.0                229976.0   \n",
       "2                     18.0                        1.0                297996.0   \n",
       "3                      9.0                        0.0                256329.0   \n",
       "4                     15.0                        0.0                253460.0   \n",
       "\n",
       "   Maximum Open Credit  Bankruptcies  Tax Liens  \n",
       "0             416746.0           1.0        0.0  \n",
       "1             850784.0           0.0        0.0  \n",
       "2             750090.0           0.0        0.0  \n",
       "3             386958.0           0.0        0.0  \n",
       "4             427174.0           0.0        0.0  "
      ]
     },
     "execution_count": 3,
     "metadata": {},
     "output_type": "execute_result"
    }
   ],
   "source": [
    "\n",
    "t_set.head(5)"
   ]
  },
  {
   "cell_type": "code",
   "execution_count": 4,
   "metadata": {},
   "outputs": [
    {
     "data": {
      "text/html": [
       "<div>\n",
       "<style scoped>\n",
       "    .dataframe tbody tr th:only-of-type {\n",
       "        vertical-align: middle;\n",
       "    }\n",
       "\n",
       "    .dataframe tbody tr th {\n",
       "        vertical-align: top;\n",
       "    }\n",
       "\n",
       "    .dataframe thead th {\n",
       "        text-align: right;\n",
       "    }\n",
       "</style>\n",
       "<table border=\"1\" class=\"dataframe\">\n",
       "  <thead>\n",
       "    <tr style=\"text-align: right;\">\n",
       "      <th></th>\n",
       "      <th>Loan ID</th>\n",
       "      <th>Customer ID</th>\n",
       "      <th>Loan Status</th>\n",
       "      <th>Current Loan Amount</th>\n",
       "      <th>Term</th>\n",
       "      <th>Credit Score</th>\n",
       "      <th>Annual Income</th>\n",
       "      <th>Years in current job</th>\n",
       "      <th>Home Ownership</th>\n",
       "      <th>Purpose</th>\n",
       "      <th>Monthly Debt</th>\n",
       "      <th>Years of Credit History</th>\n",
       "      <th>Months since last delinquent</th>\n",
       "      <th>Number of Open Accounts</th>\n",
       "      <th>Number of Credit Problems</th>\n",
       "      <th>Current Credit Balance</th>\n",
       "      <th>Maximum Open Credit</th>\n",
       "      <th>Bankruptcies</th>\n",
       "      <th>Tax Liens</th>\n",
       "    </tr>\n",
       "  </thead>\n",
       "  <tbody>\n",
       "    <tr>\n",
       "      <th>100509</th>\n",
       "      <td>NaN</td>\n",
       "      <td>NaN</td>\n",
       "      <td>NaN</td>\n",
       "      <td>NaN</td>\n",
       "      <td>NaN</td>\n",
       "      <td>NaN</td>\n",
       "      <td>NaN</td>\n",
       "      <td>NaN</td>\n",
       "      <td>NaN</td>\n",
       "      <td>NaN</td>\n",
       "      <td>NaN</td>\n",
       "      <td>NaN</td>\n",
       "      <td>NaN</td>\n",
       "      <td>NaN</td>\n",
       "      <td>NaN</td>\n",
       "      <td>NaN</td>\n",
       "      <td>NaN</td>\n",
       "      <td>NaN</td>\n",
       "      <td>NaN</td>\n",
       "    </tr>\n",
       "    <tr>\n",
       "      <th>100510</th>\n",
       "      <td>NaN</td>\n",
       "      <td>NaN</td>\n",
       "      <td>NaN</td>\n",
       "      <td>NaN</td>\n",
       "      <td>NaN</td>\n",
       "      <td>NaN</td>\n",
       "      <td>NaN</td>\n",
       "      <td>NaN</td>\n",
       "      <td>NaN</td>\n",
       "      <td>NaN</td>\n",
       "      <td>NaN</td>\n",
       "      <td>NaN</td>\n",
       "      <td>NaN</td>\n",
       "      <td>NaN</td>\n",
       "      <td>NaN</td>\n",
       "      <td>NaN</td>\n",
       "      <td>NaN</td>\n",
       "      <td>NaN</td>\n",
       "      <td>NaN</td>\n",
       "    </tr>\n",
       "    <tr>\n",
       "      <th>100511</th>\n",
       "      <td>NaN</td>\n",
       "      <td>NaN</td>\n",
       "      <td>NaN</td>\n",
       "      <td>NaN</td>\n",
       "      <td>NaN</td>\n",
       "      <td>NaN</td>\n",
       "      <td>NaN</td>\n",
       "      <td>NaN</td>\n",
       "      <td>NaN</td>\n",
       "      <td>NaN</td>\n",
       "      <td>NaN</td>\n",
       "      <td>NaN</td>\n",
       "      <td>NaN</td>\n",
       "      <td>NaN</td>\n",
       "      <td>NaN</td>\n",
       "      <td>NaN</td>\n",
       "      <td>NaN</td>\n",
       "      <td>NaN</td>\n",
       "      <td>NaN</td>\n",
       "    </tr>\n",
       "    <tr>\n",
       "      <th>100512</th>\n",
       "      <td>NaN</td>\n",
       "      <td>NaN</td>\n",
       "      <td>NaN</td>\n",
       "      <td>NaN</td>\n",
       "      <td>NaN</td>\n",
       "      <td>NaN</td>\n",
       "      <td>NaN</td>\n",
       "      <td>NaN</td>\n",
       "      <td>NaN</td>\n",
       "      <td>NaN</td>\n",
       "      <td>NaN</td>\n",
       "      <td>NaN</td>\n",
       "      <td>NaN</td>\n",
       "      <td>NaN</td>\n",
       "      <td>NaN</td>\n",
       "      <td>NaN</td>\n",
       "      <td>NaN</td>\n",
       "      <td>NaN</td>\n",
       "      <td>NaN</td>\n",
       "    </tr>\n",
       "    <tr>\n",
       "      <th>100513</th>\n",
       "      <td>NaN</td>\n",
       "      <td>NaN</td>\n",
       "      <td>NaN</td>\n",
       "      <td>NaN</td>\n",
       "      <td>NaN</td>\n",
       "      <td>NaN</td>\n",
       "      <td>NaN</td>\n",
       "      <td>NaN</td>\n",
       "      <td>NaN</td>\n",
       "      <td>NaN</td>\n",
       "      <td>NaN</td>\n",
       "      <td>NaN</td>\n",
       "      <td>NaN</td>\n",
       "      <td>NaN</td>\n",
       "      <td>NaN</td>\n",
       "      <td>NaN</td>\n",
       "      <td>NaN</td>\n",
       "      <td>NaN</td>\n",
       "      <td>NaN</td>\n",
       "    </tr>\n",
       "  </tbody>\n",
       "</table>\n",
       "</div>"
      ],
      "text/plain": [
       "       Loan ID Customer ID Loan Status  Current Loan Amount Term  \\\n",
       "100509     NaN         NaN         NaN                  NaN  NaN   \n",
       "100510     NaN         NaN         NaN                  NaN  NaN   \n",
       "100511     NaN         NaN         NaN                  NaN  NaN   \n",
       "100512     NaN         NaN         NaN                  NaN  NaN   \n",
       "100513     NaN         NaN         NaN                  NaN  NaN   \n",
       "\n",
       "        Credit Score  Annual Income Years in current job Home Ownership  \\\n",
       "100509           NaN            NaN                  NaN            NaN   \n",
       "100510           NaN            NaN                  NaN            NaN   \n",
       "100511           NaN            NaN                  NaN            NaN   \n",
       "100512           NaN            NaN                  NaN            NaN   \n",
       "100513           NaN            NaN                  NaN            NaN   \n",
       "\n",
       "       Purpose  Monthly Debt  Years of Credit History  \\\n",
       "100509     NaN           NaN                      NaN   \n",
       "100510     NaN           NaN                      NaN   \n",
       "100511     NaN           NaN                      NaN   \n",
       "100512     NaN           NaN                      NaN   \n",
       "100513     NaN           NaN                      NaN   \n",
       "\n",
       "        Months since last delinquent  Number of Open Accounts  \\\n",
       "100509                           NaN                      NaN   \n",
       "100510                           NaN                      NaN   \n",
       "100511                           NaN                      NaN   \n",
       "100512                           NaN                      NaN   \n",
       "100513                           NaN                      NaN   \n",
       "\n",
       "        Number of Credit Problems  Current Credit Balance  \\\n",
       "100509                        NaN                     NaN   \n",
       "100510                        NaN                     NaN   \n",
       "100511                        NaN                     NaN   \n",
       "100512                        NaN                     NaN   \n",
       "100513                        NaN                     NaN   \n",
       "\n",
       "        Maximum Open Credit  Bankruptcies  Tax Liens  \n",
       "100509                  NaN           NaN        NaN  \n",
       "100510                  NaN           NaN        NaN  \n",
       "100511                  NaN           NaN        NaN  \n",
       "100512                  NaN           NaN        NaN  \n",
       "100513                  NaN           NaN        NaN  "
      ]
     },
     "execution_count": 4,
     "metadata": {},
     "output_type": "execute_result"
    }
   ],
   "source": [
    "t_set.tail(5)"
   ]
  },
  {
   "cell_type": "markdown",
   "metadata": {},
   "source": [
    "we can see that last few rows have blank values, thus needs to be removed."
   ]
  },
  {
   "cell_type": "markdown",
   "metadata": {},
   "source": [
    "# Remove unwanted data and columns"
   ]
  },
  {
   "cell_type": "code",
   "execution_count": 5,
   "metadata": {},
   "outputs": [],
   "source": [
    "#drop LoanID and CustomerID columns as they are of no use in the analysis\n",
    "t_set.drop(['Loan ID', 'Customer ID'],axis=1,inplace=True)"
   ]
  },
  {
   "cell_type": "code",
   "execution_count": 6,
   "metadata": {},
   "outputs": [],
   "source": [
    "# Delete bottom 500+ blank rows\n",
    "training_set =t_set[:-514]"
   ]
  },
  {
   "cell_type": "code",
   "execution_count": null,
   "metadata": {},
   "outputs": [],
   "source": []
  },
  {
   "cell_type": "markdown",
   "metadata": {},
   "source": [
    "# Step 3 - Date Analysis and Visualization"
   ]
  },
  {
   "cell_type": "code",
   "execution_count": 7,
   "metadata": {},
   "outputs": [
    {
     "data": {
      "text/plain": [
       "<matplotlib.axes._subplots.AxesSubplot at 0x1cea2c43cf8>"
      ]
     },
     "execution_count": 7,
     "metadata": {},
     "output_type": "execute_result"
    },
    {
     "data": {
      "image/png": "[encoded data removed]",
      "text/plain": [
       "<Figure size 432x288 with 1 Axes>"
      ]
     },
     "metadata": {
      "needs_background": "light"
     },
     "output_type": "display_data"
    }
   ],
   "source": [
    "# Visual representation of Missing Data again \n",
    "sns.heatmap(training_set.isnull(), yticklabels = False, cbar = False, cmap=\"Blues\")"
   ]
  },
  {
   "cell_type": "code",
   "execution_count": 8,
   "metadata": {},
   "outputs": [
    {
     "data": {
      "text/html": [
       "<div>\n",
       "<style scoped>\n",
       "    .dataframe tbody tr th:only-of-type {\n",
       "        vertical-align: middle;\n",
       "    }\n",
       "\n",
       "    .dataframe tbody tr th {\n",
       "        vertical-align: top;\n",
       "    }\n",
       "\n",
       "    .dataframe thead th {\n",
       "        text-align: right;\n",
       "    }\n",
       "</style>\n",
       "<table border=\"1\" class=\"dataframe\">\n",
       "  <thead>\n",
       "    <tr style=\"text-align: right;\">\n",
       "      <th></th>\n",
       "      <th>count</th>\n",
       "      <th>mean</th>\n",
       "      <th>std</th>\n",
       "      <th>min</th>\n",
       "      <th>25%</th>\n",
       "      <th>50%</th>\n",
       "      <th>75%</th>\n",
       "      <th>max</th>\n",
       "    </tr>\n",
       "  </thead>\n",
       "  <tbody>\n",
       "    <tr>\n",
       "      <th>Current Loan Amount</th>\n",
       "      <td>100000.0</td>\n",
       "      <td>1.176045e+07</td>\n",
       "      <td>3.178394e+07</td>\n",
       "      <td>10802.0</td>\n",
       "      <td>179652.0000</td>\n",
       "      <td>312246.0</td>\n",
       "      <td>5.249420e+05</td>\n",
       "      <td>1.000000e+08</td>\n",
       "    </tr>\n",
       "    <tr>\n",
       "      <th>Credit Score</th>\n",
       "      <td>80846.0</td>\n",
       "      <td>1.076456e+03</td>\n",
       "      <td>1.475404e+03</td>\n",
       "      <td>585.0</td>\n",
       "      <td>705.0000</td>\n",
       "      <td>724.0</td>\n",
       "      <td>7.410000e+02</td>\n",
       "      <td>7.510000e+03</td>\n",
       "    </tr>\n",
       "    <tr>\n",
       "      <th>Annual Income</th>\n",
       "      <td>80846.0</td>\n",
       "      <td>1.378277e+06</td>\n",
       "      <td>1.081360e+06</td>\n",
       "      <td>76627.0</td>\n",
       "      <td>848844.0000</td>\n",
       "      <td>1174162.0</td>\n",
       "      <td>1.650663e+06</td>\n",
       "      <td>1.655574e+08</td>\n",
       "    </tr>\n",
       "    <tr>\n",
       "      <th>Monthly Debt</th>\n",
       "      <td>100000.0</td>\n",
       "      <td>1.847241e+04</td>\n",
       "      <td>1.217499e+04</td>\n",
       "      <td>0.0</td>\n",
       "      <td>10214.1625</td>\n",
       "      <td>16220.3</td>\n",
       "      <td>2.401206e+04</td>\n",
       "      <td>4.358433e+05</td>\n",
       "    </tr>\n",
       "    <tr>\n",
       "      <th>Years of Credit History</th>\n",
       "      <td>100000.0</td>\n",
       "      <td>1.819914e+01</td>\n",
       "      <td>7.015324e+00</td>\n",
       "      <td>3.6</td>\n",
       "      <td>13.5000</td>\n",
       "      <td>16.9</td>\n",
       "      <td>2.170000e+01</td>\n",
       "      <td>7.050000e+01</td>\n",
       "    </tr>\n",
       "    <tr>\n",
       "      <th>Months since last delinquent</th>\n",
       "      <td>46859.0</td>\n",
       "      <td>3.490132e+01</td>\n",
       "      <td>2.199783e+01</td>\n",
       "      <td>0.0</td>\n",
       "      <td>16.0000</td>\n",
       "      <td>32.0</td>\n",
       "      <td>5.100000e+01</td>\n",
       "      <td>1.760000e+02</td>\n",
       "    </tr>\n",
       "    <tr>\n",
       "      <th>Number of Open Accounts</th>\n",
       "      <td>100000.0</td>\n",
       "      <td>1.112853e+01</td>\n",
       "      <td>5.009870e+00</td>\n",
       "      <td>0.0</td>\n",
       "      <td>8.0000</td>\n",
       "      <td>10.0</td>\n",
       "      <td>1.400000e+01</td>\n",
       "      <td>7.600000e+01</td>\n",
       "    </tr>\n",
       "    <tr>\n",
       "      <th>Number of Credit Problems</th>\n",
       "      <td>100000.0</td>\n",
       "      <td>1.683100e-01</td>\n",
       "      <td>4.827050e-01</td>\n",
       "      <td>0.0</td>\n",
       "      <td>0.0000</td>\n",
       "      <td>0.0</td>\n",
       "      <td>0.000000e+00</td>\n",
       "      <td>1.500000e+01</td>\n",
       "    </tr>\n",
       "    <tr>\n",
       "      <th>Current Credit Balance</th>\n",
       "      <td>100000.0</td>\n",
       "      <td>2.946374e+05</td>\n",
       "      <td>3.761709e+05</td>\n",
       "      <td>0.0</td>\n",
       "      <td>112670.0000</td>\n",
       "      <td>209817.0</td>\n",
       "      <td>3.679588e+05</td>\n",
       "      <td>3.287897e+07</td>\n",
       "    </tr>\n",
       "    <tr>\n",
       "      <th>Maximum Open Credit</th>\n",
       "      <td>99998.0</td>\n",
       "      <td>7.607984e+05</td>\n",
       "      <td>8.384503e+06</td>\n",
       "      <td>0.0</td>\n",
       "      <td>273438.0000</td>\n",
       "      <td>467874.0</td>\n",
       "      <td>7.829580e+05</td>\n",
       "      <td>1.539738e+09</td>\n",
       "    </tr>\n",
       "    <tr>\n",
       "      <th>Bankruptcies</th>\n",
       "      <td>99796.0</td>\n",
       "      <td>1.177402e-01</td>\n",
       "      <td>3.514238e-01</td>\n",
       "      <td>0.0</td>\n",
       "      <td>0.0000</td>\n",
       "      <td>0.0</td>\n",
       "      <td>0.000000e+00</td>\n",
       "      <td>7.000000e+00</td>\n",
       "    </tr>\n",
       "    <tr>\n",
       "      <th>Tax Liens</th>\n",
       "      <td>99990.0</td>\n",
       "      <td>2.931293e-02</td>\n",
       "      <td>2.581824e-01</td>\n",
       "      <td>0.0</td>\n",
       "      <td>0.0000</td>\n",
       "      <td>0.0</td>\n",
       "      <td>0.000000e+00</td>\n",
       "      <td>1.500000e+01</td>\n",
       "    </tr>\n",
       "  </tbody>\n",
       "</table>\n",
       "</div>"
      ],
      "text/plain": [
       "                                 count          mean           std      min  \\\n",
       "Current Loan Amount           100000.0  1.176045e+07  3.178394e+07  10802.0   \n",
       "Credit Score                   80846.0  1.076456e+03  1.475404e+03    585.0   \n",
       "Annual Income                  80846.0  1.378277e+06  1.081360e+06  76627.0   \n",
       "Monthly Debt                  100000.0  1.847241e+04  1.217499e+04      0.0   \n",
       "Years of Credit History       100000.0  1.819914e+01  7.015324e+00      3.6   \n",
       "Months since last delinquent   46859.0  3.490132e+01  2.199783e+01      0.0   \n",
       "Number of Open Accounts       100000.0  1.112853e+01  5.009870e+00      0.0   \n",
       "Number of Credit Problems     100000.0  1.683100e-01  4.827050e-01      0.0   \n",
       "Current Credit Balance        100000.0  2.946374e+05  3.761709e+05      0.0   \n",
       "Maximum Open Credit            99998.0  7.607984e+05  8.384503e+06      0.0   \n",
       "Bankruptcies                   99796.0  1.177402e-01  3.514238e-01      0.0   \n",
       "Tax Liens                      99990.0  2.931293e-02  2.581824e-01      0.0   \n",
       "\n",
       "                                      25%        50%           75%  \\\n",
       "Current Loan Amount           179652.0000   312246.0  5.249420e+05   \n",
       "Credit Score                     705.0000      724.0  7.410000e+02   \n",
       "Annual Income                 848844.0000  1174162.0  1.650663e+06   \n",
       "Monthly Debt                   10214.1625    16220.3  2.401206e+04   \n",
       "Years of Credit History           13.5000       16.9  2.170000e+01   \n",
       "Months since last delinquent      16.0000       32.0  5.100000e+01   \n",
       "Number of Open Accounts            8.0000       10.0  1.400000e+01   \n",
       "Number of Credit Problems          0.0000        0.0  0.000000e+00   \n",
       "Current Credit Balance        112670.0000   209817.0  3.679588e+05   \n",
       "Maximum Open Credit           273438.0000   467874.0  7.829580e+05   \n",
       "Bankruptcies                       0.0000        0.0  0.000000e+00   \n",
       "Tax Liens                          0.0000        0.0  0.000000e+00   \n",
       "\n",
       "                                       max  \n",
       "Current Loan Amount           1.000000e+08  \n",
       "Credit Score                  7.510000e+03  \n",
       "Annual Income                 1.655574e+08  \n",
       "Monthly Debt                  4.358433e+05  \n",
       "Years of Credit History       7.050000e+01  \n",
       "Months since last delinquent  1.760000e+02  \n",
       "Number of Open Accounts       7.600000e+01  \n",
       "Number of Credit Problems     1.500000e+01  \n",
       "Current Credit Balance        3.287897e+07  \n",
       "Maximum Open Credit           1.539738e+09  \n",
       "Bankruptcies                  7.000000e+00  \n",
       "Tax Liens                     1.500000e+01  "
      ]
     },
     "execution_count": 8,
     "metadata": {},
     "output_type": "execute_result"
    }
   ],
   "source": [
    "# basic discriptive statistics\n",
    "training_set.describe().transpose()"
   ]
  },
  {
   "cell_type": "markdown",
   "metadata": {},
   "source": [
    "Months since last delinquent seems to have very high NO of missing values"
   ]
  },
  {
   "cell_type": "code",
   "execution_count": 9,
   "metadata": {},
   "outputs": [
    {
     "name": "stdout",
     "output_type": "stream",
     "text": [
      "<class 'pandas.core.frame.DataFrame'>\n",
      "RangeIndex: 100000 entries, 0 to 99999\n",
      "Data columns (total 17 columns):\n",
      "Loan Status                     100000 non-null object\n",
      "Current Loan Amount             100000 non-null float64\n",
      "Term                            100000 non-null object\n",
      "Credit Score                    80846 non-null float64\n",
      "Annual Income                   80846 non-null float64\n",
      "Years in current job            95778 non-null object\n",
      "Home Ownership                  100000 non-null object\n",
      "Purpose                         100000 non-null object\n",
      "Monthly Debt                    100000 non-null float64\n",
      "Years of Credit History         100000 non-null float64\n",
      "Months since last delinquent    46859 non-null float64\n",
      "Number of Open Accounts         100000 non-null float64\n",
      "Number of Credit Problems       100000 non-null float64\n",
      "Current Credit Balance          100000 non-null float64\n",
      "Maximum Open Credit             99998 non-null float64\n",
      "Bankruptcies                    99796 non-null float64\n",
      "Tax Liens                       99990 non-null float64\n",
      "dtypes: float64(12), object(5)\n",
      "memory usage: 13.0+ MB\n"
     ]
    }
   ],
   "source": [
    "training_set.info()"
   ]
  },
  {
   "cell_type": "markdown",
   "metadata": {},
   "source": [
    "# Data Cleaning"
   ]
  },
  {
   "cell_type": "markdown",
   "metadata": {},
   "source": [
    "Encoding Column Loan Status"
   ]
  },
  {
   "cell_type": "code",
   "execution_count": 10,
   "metadata": {},
   "outputs": [
    {
     "name": "stderr",
     "output_type": "stream",
     "text": [
      "C:\\Users\\Arjun Achuthan\\Anaconda3\\lib\\site-packages\\pandas\\core\\generic.py:6586: SettingWithCopyWarning: \n",
      "A value is trying to be set on a copy of a slice from a DataFrame\n",
      "\n",
      "See the caveats in the documentation: http://pandas.pydata.org/pandas-docs/stable/indexing.html#indexing-view-versus-copy\n",
      "  self._update_inplace(new_data)\n"
     ]
    }
   ],
   "source": [
    "#Loan Status\n",
    "# Encode Fully Paid as 0 and Charged Off as 1\n",
    "training_set['Loan Status'].replace(['Fully Paid' , 'Charged Off'] , [0 , 1] , inplace = True)"
   ]
  },
  {
   "cell_type": "code",
   "execution_count": 11,
   "metadata": {},
   "outputs": [],
   "source": [
    "#training_set.drop(['Months since last delinquent'],axis=1,inplace=True)"
   ]
  },
  {
   "cell_type": "markdown",
   "metadata": {},
   "source": [
    "HomeOwnership column"
   ]
  },
  {
   "cell_type": "code",
   "execution_count": 12,
   "metadata": {},
   "outputs": [],
   "source": [
    "# Home Ownership\n",
    "#This attribute is a categorical variable. But one of the categories have a spelling mistakes which we rectified.\n",
    "training_set['Home Ownership'].replace(['HaveMortgage' ] , ['Home Mortgage'] , inplace = True)"
   ]
  },
  {
   "cell_type": "markdown",
   "metadata": {},
   "source": [
    "Purpose column"
   ]
  },
  {
   "cell_type": "code",
   "execution_count": 13,
   "metadata": {},
   "outputs": [],
   "source": [
    "# Purpose\n",
    "uniq = pd.DataFrame(np.unique(training_set['Purpose']))\n"
   ]
  },
  {
   "cell_type": "code",
   "execution_count": 14,
   "metadata": {},
   "outputs": [
    {
     "data": {
      "text/plain": [
       "Debt Consolidation      78552\n",
       "other                    6037\n",
       "Home Improvements        5839\n",
       "Other                    3250\n",
       "Business Loan            1569\n",
       "Buy a Car                1265\n",
       "Medical Bills            1127\n",
       "Buy House                 678\n",
       "Take a Trip               573\n",
       "major_purchase            352\n",
       "small_business            283\n",
       "moving                    150\n",
       "wedding                   115\n",
       "vacation                  101\n",
       "Educational Expenses       99\n",
       "renewable_energy           10\n",
       "Name: Purpose, dtype: int64"
      ]
     },
     "execution_count": 14,
     "metadata": {},
     "output_type": "execute_result"
    }
   ],
   "source": [
    "training_set['Purpose'].value_counts()"
   ]
  },
  {
   "cell_type": "code",
   "execution_count": 15,
   "metadata": {},
   "outputs": [
    {
     "name": "stderr",
     "output_type": "stream",
     "text": [
      "C:\\Users\\Arjun Achuthan\\Anaconda3\\lib\\site-packages\\ipykernel_launcher.py:3: SettingWithCopyWarning: \n",
      "A value is trying to be set on a copy of a slice from a DataFrame\n",
      "\n",
      "See the caveats in the documentation: http://pandas.pydata.org/pandas-docs/stable/indexing.html#indexing-view-versus-copy\n",
      "  This is separate from the ipykernel package so we can avoid doing imports until\n",
      "C:\\Users\\Arjun Achuthan\\Anaconda3\\lib\\site-packages\\pandas\\core\\generic.py:8682: SettingWithCopyWarning: \n",
      "A value is trying to be set on a copy of a slice from a DataFrame\n",
      "\n",
      "See the caveats in the documentation: http://pandas.pydata.org/pandas-docs/stable/indexing.html#indexing-view-versus-copy\n",
      "  self._update_inplace(new_data)\n",
      "C:\\Users\\Arjun Achuthan\\Anaconda3\\lib\\site-packages\\IPython\\core\\interactiveshell.py:3296: SettingWithCopyWarning: \n",
      "A value is trying to be set on a copy of a slice from a DataFrame\n",
      "\n",
      "See the caveats in the documentation: http://pandas.pydata.org/pandas-docs/stable/indexing.html#indexing-view-versus-copy\n",
      "  exec(code_obj, self.user_global_ns, self.user_ns)\n"
     ]
    }
   ],
   "source": [
    "# Encode all categories except 'Debt Consolidation' in Purpose column  to 'Others'\n",
    "\n",
    "training_set['Purpose'][training_set['Purpose']  != 'Debt Consolidation'] = 'Other'"
   ]
  },
  {
   "cell_type": "code",
   "execution_count": 16,
   "metadata": {},
   "outputs": [
    {
     "data": {
      "text/plain": [
       "Debt Consolidation    78552\n",
       "Other                 21448\n",
       "Name: Purpose, dtype: int64"
      ]
     },
     "execution_count": 16,
     "metadata": {},
     "output_type": "execute_result"
    }
   ],
   "source": [
    "training_set['Purpose'].value_counts()"
   ]
  },
  {
   "cell_type": "markdown",
   "metadata": {},
   "source": [
    "CreditScore"
   ]
  },
  {
   "cell_type": "code",
   "execution_count": 17,
   "metadata": {},
   "outputs": [
    {
     "name": "stderr",
     "output_type": "stream",
     "text": [
      "C:\\Users\\Arjun Achuthan\\Anaconda3\\lib\\site-packages\\ipykernel_launcher.py:4: SettingWithCopyWarning: \n",
      "A value is trying to be set on a copy of a slice from a DataFrame\n",
      "\n",
      "See the caveats in the documentation: http://pandas.pydata.org/pandas-docs/stable/indexing.html#indexing-view-versus-copy\n",
      "  after removing the cwd from sys.path.\n"
     ]
    }
   ],
   "source": [
    "#Credit Score\n",
    "# Replace values greated than 850 to NaN. \n",
    "#credit score values above 850 are invalid\n",
    "training_set['Credit Score'][training_set['Credit Score']> 850] = np.nan"
   ]
  },
  {
   "cell_type": "code",
   "execution_count": 18,
   "metadata": {},
   "outputs": [
    {
     "data": {
      "text/plain": [
       "0    709.0\n",
       "1      NaN\n",
       "2    741.0\n",
       "3    721.0\n",
       "4      NaN\n",
       "Name: Credit Score, dtype: float64"
      ]
     },
     "execution_count": 18,
     "metadata": {},
     "output_type": "execute_result"
    }
   ],
   "source": [
    "training_set['Credit Score'].head()"
   ]
  },
  {
   "cell_type": "code",
   "execution_count": 19,
   "metadata": {},
   "outputs": [
    {
     "name": "stdout",
     "output_type": "stream",
     "text": [
      "Mean = 710.2076783316218\n",
      "Mean = 717.889873656421\n",
      "Median = 723.0\n",
      "Median= 719.0\n"
     ]
    }
   ],
   "source": [
    "print('Mean =' ,training_set['Credit Score'][training_set['Loan Status'] == 1 ].mean() )\n",
    "print('Mean =' ,training_set['Credit Score'][training_set['Loan Status'] == 0].mean() )\n",
    "print('Median =' ,training_set['Credit Score'][training_set['Loan Status'] == 0].median() )\n",
    "print('Median=' ,training_set['Credit Score'][training_set['Loan Status'] == 1].median() )"
   ]
  },
  {
   "cell_type": "code",
   "execution_count": 20,
   "metadata": {},
   "outputs": [
    {
     "name": "stderr",
     "output_type": "stream",
     "text": [
      "C:\\Users\\Arjun Achuthan\\Anaconda3\\lib\\site-packages\\pandas\\core\\generic.py:6130: SettingWithCopyWarning: \n",
      "A value is trying to be set on a copy of a slice from a DataFrame\n",
      "\n",
      "See the caveats in the documentation: http://pandas.pydata.org/pandas-docs/stable/indexing.html#indexing-view-versus-copy\n",
      "  self._update_inplace(new_data)\n"
     ]
    }
   ],
   "source": [
    "#Imputing the CreditScore column with median values\n",
    "training_set['Credit Score'].fillna(training_set.groupby(['Loan Status' ])['Credit Score'].transform(\"median\"), inplace=True)\n",
    "\n"
   ]
  },
  {
   "cell_type": "code",
   "execution_count": 21,
   "metadata": {},
   "outputs": [
    {
     "data": {
      "text/plain": [
       "0    1.0\n",
       "1    0.0\n",
       "2    0.0\n",
       "3    0.0\n",
       "4    0.0\n",
       "Name: Bankruptcies, dtype: float64"
      ]
     },
     "execution_count": 21,
     "metadata": {},
     "output_type": "execute_result"
    }
   ],
   "source": [
    "#Bankcrupcies\n",
    "training_set['Bankruptcies'].replace(np.nan , 0 , inplace=True)\n",
    "training_set['Bankruptcies'].head()"
   ]
  },
  {
   "cell_type": "code",
   "execution_count": 22,
   "metadata": {},
   "outputs": [],
   "source": [
    "#training_set =training_set.dropna()\n",
    "#training_set.info()"
   ]
  },
  {
   "cell_type": "code",
   "execution_count": 23,
   "metadata": {},
   "outputs": [
    {
     "data": {
      "text/plain": [
       "<matplotlib.axes._subplots.AxesSubplot at 0x1cea2d9bdd8>"
      ]
     },
     "execution_count": 23,
     "metadata": {},
     "output_type": "execute_result"
    },
    {
     "data": {
      "image/png": "[encoded data removed]",
      "text/plain": [
       "<Figure size 432x288 with 1 Axes>"
      ]
     },
     "metadata": {
      "needs_background": "light"
     },
     "output_type": "display_data"
    }
   ],
   "source": [
    "# Find Missing Data again again\n",
    "sns.heatmap(training_set.isnull(), yticklabels = False, cbar = False, cmap=\"Blues\")"
   ]
  },
  {
   "cell_type": "code",
   "execution_count": 24,
   "metadata": {},
   "outputs": [
    {
     "data": {
      "text/plain": [
       "<matplotlib.axes._subplots.AxesSubplot at 0x1cea47ab2e8>"
      ]
     },
     "execution_count": 24,
     "metadata": {},
     "output_type": "execute_result"
    },
    {
     "data": {
      "image/png": "[encoded data removed]",
      "text/plain": [
       "<Figure size 432x288 with 2 Axes>"
      ]
     },
     "metadata": {
      "needs_background": "light"
     },
     "output_type": "display_data"
    }
   ],
   "source": [
    "import seaborn as sns\n",
    "corr = training_set.corr()\n",
    "sns.heatmap(corr, \n",
    "            xticklabels=corr.columns.values,\n",
    "            yticklabels=corr.columns.values)"
   ]
  },
  {
   "cell_type": "code",
   "execution_count": 25,
   "metadata": {},
   "outputs": [
    {
     "data": {
      "text/plain": [
       "0.0    88978\n",
       "1.0    10475\n",
       "2.0      417\n",
       "3.0       93\n",
       "4.0       27\n",
       "5.0        7\n",
       "6.0        2\n",
       "7.0        1\n",
       "Name: Bankruptcies, dtype: int64"
      ]
     },
     "execution_count": 25,
     "metadata": {},
     "output_type": "execute_result"
    }
   ],
   "source": [
    "training_set['Bankruptcies'].value_counts()"
   ]
  },
  {
   "cell_type": "code",
   "execution_count": 26,
   "metadata": {},
   "outputs": [
    {
     "data": {
      "text/plain": [
       "0.0     86035\n",
       "1.0     12077\n",
       "2.0      1299\n",
       "3.0       378\n",
       "4.0       125\n",
       "5.0        49\n",
       "6.0        17\n",
       "7.0         8\n",
       "8.0         4\n",
       "9.0         2\n",
       "11.0        2\n",
       "10.0        2\n",
       "15.0        1\n",
       "12.0        1\n",
       "Name: Number of Credit Problems, dtype: int64"
      ]
     },
     "execution_count": 26,
     "metadata": {},
     "output_type": "execute_result"
    }
   ],
   "source": [
    "training_set['Number of Credit Problems'].value_counts()"
   ]
  },
  {
   "cell_type": "code",
   "execution_count": 27,
   "metadata": {},
   "outputs": [
    {
     "name": "stderr",
     "output_type": "stream",
     "text": [
      "C:\\Users\\Arjun Achuthan\\Anaconda3\\lib\\site-packages\\pandas\\core\\frame.py:3940: SettingWithCopyWarning: \n",
      "A value is trying to be set on a copy of a slice from a DataFrame\n",
      "\n",
      "See the caveats in the documentation: http://pandas.pydata.org/pandas-docs/stable/indexing.html#indexing-view-versus-copy\n",
      "  errors=errors)\n"
     ]
    }
   ],
   "source": [
    "#Dropping column because it has high correlation with bankcrupcies\n",
    "training_set.drop(['Number of Credit Problems'],axis=1,inplace=True)"
   ]
  },
  {
   "cell_type": "code",
   "execution_count": 28,
   "metadata": {},
   "outputs": [
    {
     "data": {
      "text/plain": [
       "<matplotlib.axes._subplots.AxesSubplot at 0x1cea467b780>"
      ]
     },
     "execution_count": 28,
     "metadata": {},
     "output_type": "execute_result"
    },
    {
     "data": {
      "image/png": "[encoded data removed]",
      "text/plain": [
       "<Figure size 432x288 with 2 Axes>"
      ]
     },
     "metadata": {
      "needs_background": "light"
     },
     "output_type": "display_data"
    }
   ],
   "source": [
    "import seaborn as sns\n",
    "corr = training_set.corr()\n",
    "sns.heatmap(corr, \n",
    "            xticklabels=corr.columns.values,\n",
    "            yticklabels=corr.columns.values)"
   ]
  },
  {
   "cell_type": "code",
   "execution_count": 29,
   "metadata": {},
   "outputs": [],
   "source": [
    "training_set['Tax Liens'].replace(np.nan , 0 , inplace=True)"
   ]
  },
  {
   "cell_type": "code",
   "execution_count": 30,
   "metadata": {},
   "outputs": [
    {
     "name": "stdout",
     "output_type": "stream",
     "text": [
      "<class 'pandas.core.frame.DataFrame'>\n",
      "RangeIndex: 100000 entries, 0 to 99999\n",
      "Data columns (total 16 columns):\n",
      "Loan Status                     100000 non-null int64\n",
      "Current Loan Amount             100000 non-null float64\n",
      "Term                            100000 non-null object\n",
      "Credit Score                    100000 non-null float64\n",
      "Annual Income                   80846 non-null float64\n",
      "Years in current job            95778 non-null object\n",
      "Home Ownership                  100000 non-null object\n",
      "Purpose                         100000 non-null object\n",
      "Monthly Debt                    100000 non-null float64\n",
      "Years of Credit History         100000 non-null float64\n",
      "Months since last delinquent    46859 non-null float64\n",
      "Number of Open Accounts         100000 non-null float64\n",
      "Current Credit Balance          100000 non-null float64\n",
      "Maximum Open Credit             99998 non-null float64\n",
      "Bankruptcies                    100000 non-null float64\n",
      "Tax Liens                       100000 non-null float64\n",
      "dtypes: float64(11), int64(1), object(4)\n",
      "memory usage: 12.2+ MB\n"
     ]
    }
   ],
   "source": [
    "training_set.info()"
   ]
  },
  {
   "cell_type": "code",
   "execution_count": 31,
   "metadata": {},
   "outputs": [
    {
     "name": "stderr",
     "output_type": "stream",
     "text": [
      "C:\\Users\\Arjun Achuthan\\Anaconda3\\lib\\site-packages\\ipykernel_launcher.py:2: SettingWithCopyWarning: \n",
      "A value is trying to be set on a copy of a slice from a DataFrame\n",
      "\n",
      "See the caveats in the documentation: http://pandas.pydata.org/pandas-docs/stable/indexing.html#indexing-view-versus-copy\n",
      "  \n"
     ]
    }
   ],
   "source": [
    "#Current loan amount imputation\n",
    "training_set['Current Loan Amount'][training_set['Current Loan Amount']== 99999999 ] = np.nan"
   ]
  },
  {
   "cell_type": "code",
   "execution_count": 32,
   "metadata": {},
   "outputs": [],
   "source": [
    "training_set['Current Loan Amount'].fillna(training_set.groupby(['Loan Status' ])['Current Loan Amount'].transform(\"median\"), inplace=True)\n",
    "\n"
   ]
  },
  {
   "cell_type": "code",
   "execution_count": 33,
   "metadata": {},
   "outputs": [],
   "source": [
    "#Current Annual Income imputation\n",
    "training_set['Annual Income'].fillna(training_set.groupby(['Loan Status' ])['Annual Income'].transform(\"median\"), inplace=True)\n"
   ]
  },
  {
   "cell_type": "code",
   "execution_count": 34,
   "metadata": {},
   "outputs": [
    {
     "data": {
      "text/plain": [
       "<matplotlib.axes._subplots.AxesSubplot at 0x1cea4a5f550>"
      ]
     },
     "execution_count": 34,
     "metadata": {},
     "output_type": "execute_result"
    },
    {
     "data": {
      "image/png": "[encoded data removed]",
      "text/plain": [
       "<Figure size 432x288 with 1 Axes>"
      ]
     },
     "metadata": {
      "needs_background": "light"
     },
     "output_type": "display_data"
    }
   ],
   "source": [
    "# Find Missing Data again again\n",
    "sns.heatmap(training_set.isnull(), yticklabels = False, cbar = False, cmap=\"Blues\")"
   ]
  },
  {
   "cell_type": "code",
   "execution_count": 35,
   "metadata": {},
   "outputs": [
    {
     "data": {
      "text/plain": [
       "10+ years    31121\n",
       "2 years       9134\n",
       "3 years       8169\n",
       "< 1 year      8164\n",
       "5 years       6787\n",
       "1 year        6460\n",
       "4 years       6143\n",
       "6 years       5686\n",
       "7 years       5577\n",
       "8 years       4582\n",
       "9 years       3955\n",
       "Name: Years in current job, dtype: int64"
      ]
     },
     "execution_count": 35,
     "metadata": {},
     "output_type": "execute_result"
    }
   ],
   "source": [
    "#Binning categories\n",
    "#<1 year to 4yrs as 0-4yrs\n",
    "#5 years to 9 years as 5-9yrs\n",
    "#and 10+ yrs\n",
    "training_set['Years in current job'].value_counts()"
   ]
  },
  {
   "cell_type": "code",
   "execution_count": 36,
   "metadata": {},
   "outputs": [],
   "source": [
    "training_set['Years in current job'].replace(['< 1 year','1 year','2 years','3 years','4 years'],'0-4 yrs',inplace = True)\n",
    "training_set['Years in current job'].replace([ '5 years','6 years','7 years','8 years','9 years'],'5-9 yrs',inplace = True)\n"
   ]
  },
  {
   "cell_type": "code",
   "execution_count": 37,
   "metadata": {},
   "outputs": [
    {
     "data": {
      "text/plain": [
       "0-4 yrs      38070\n",
       "10+ years    31121\n",
       "5-9 yrs      26587\n",
       "Name: Years in current job, dtype: int64"
      ]
     },
     "execution_count": 37,
     "metadata": {},
     "output_type": "execute_result"
    }
   ],
   "source": [
    "training_set['Years in current job'].value_counts()"
   ]
  },
  {
   "cell_type": "code",
   "execution_count": 38,
   "metadata": {
    "scrolled": true
   },
   "outputs": [],
   "source": [
    "#Current Annual Income delete Null values\n",
    "import pandas as pd\n",
    "training_set = training_set[pd.notnull(training_set['Years in current job'])]"
   ]
  },
  {
   "cell_type": "code",
   "execution_count": 39,
   "metadata": {},
   "outputs": [
    {
     "name": "stdout",
     "output_type": "stream",
     "text": [
      "<class 'pandas.core.frame.DataFrame'>\n",
      "Int64Index: 95778 entries, 0 to 99998\n",
      "Data columns (total 16 columns):\n",
      "Loan Status                     95778 non-null int64\n",
      "Current Loan Amount             95778 non-null float64\n",
      "Term                            95778 non-null object\n",
      "Credit Score                    95778 non-null float64\n",
      "Annual Income                   95778 non-null float64\n",
      "Years in current job            95778 non-null object\n",
      "Home Ownership                  95778 non-null object\n",
      "Purpose                         95778 non-null object\n",
      "Monthly Debt                    95778 non-null float64\n",
      "Years of Credit History         95778 non-null float64\n",
      "Months since last delinquent    44880 non-null float64\n",
      "Number of Open Accounts         95778 non-null float64\n",
      "Current Credit Balance          95778 non-null float64\n",
      "Maximum Open Credit             95776 non-null float64\n",
      "Bankruptcies                    95778 non-null float64\n",
      "Tax Liens                       95778 non-null float64\n",
      "dtypes: float64(11), int64(1), object(4)\n",
      "memory usage: 12.4+ MB\n"
     ]
    }
   ],
   "source": [
    "training_set.info()"
   ]
  },
  {
   "cell_type": "code",
   "execution_count": 40,
   "metadata": {},
   "outputs": [],
   "source": [
    "#Delete column 'Months since last delinquent' due to large NO of null values\n",
    "training_set.drop(['Months since last delinquent'],axis=1,inplace=True)"
   ]
  },
  {
   "cell_type": "markdown",
   "metadata": {},
   "source": [
    "# Model Building"
   ]
  },
  {
   "cell_type": "code",
   "execution_count": 41,
   "metadata": {},
   "outputs": [
    {
     "name": "stdout",
     "output_type": "stream",
     "text": [
      "<class 'pandas.core.frame.DataFrame'>\n",
      "Int64Index: 95778 entries, 0 to 99998\n",
      "Data columns (total 15 columns):\n",
      "Loan Status                95778 non-null int64\n",
      "Current Loan Amount        95778 non-null float64\n",
      "Term                       95778 non-null object\n",
      "Credit Score               95778 non-null float64\n",
      "Annual Income              95778 non-null float64\n",
      "Years in current job       95778 non-null object\n",
      "Home Ownership             95778 non-null object\n",
      "Purpose                    95778 non-null object\n",
      "Monthly Debt               95778 non-null float64\n",
      "Years of Credit History    95778 non-null float64\n",
      "Number of Open Accounts    95778 non-null float64\n",
      "Current Credit Balance     95778 non-null float64\n",
      "Maximum Open Credit        95776 non-null float64\n",
      "Bankruptcies               95778 non-null float64\n",
      "Tax Liens                  95778 non-null float64\n",
      "dtypes: float64(10), int64(1), object(4)\n",
      "memory usage: 11.7+ MB\n"
     ]
    }
   ],
   "source": [
    "training_set.info()"
   ]
  },
  {
   "cell_type": "code",
   "execution_count": 42,
   "metadata": {},
   "outputs": [],
   "source": [
    "df= training_set"
   ]
  },
  {
   "cell_type": "markdown",
   "metadata": {},
   "source": [
    "Create dummy malues for all the categorical variables and remove the 1st column"
   ]
  },
  {
   "cell_type": "code",
   "execution_count": 43,
   "metadata": {},
   "outputs": [],
   "source": [
    "Term = pd.get_dummies(df['Term'], drop_first = True)"
   ]
  },
  {
   "cell_type": "code",
   "execution_count": 44,
   "metadata": {},
   "outputs": [],
   "source": [
    "Yearscurrentjob = pd.get_dummies(df['Years in current job'], drop_first = True) "
   ]
  },
  {
   "cell_type": "code",
   "execution_count": 45,
   "metadata": {},
   "outputs": [],
   "source": [
    "home = pd.get_dummies(df['Home Ownership'],drop_first = True) "
   ]
  },
  {
   "cell_type": "code",
   "execution_count": 46,
   "metadata": {},
   "outputs": [],
   "source": [
    "purpose =  pd.get_dummies(df['Purpose'], drop_first = True) "
   ]
  },
  {
   "cell_type": "code",
   "execution_count": 47,
   "metadata": {},
   "outputs": [],
   "source": [
    "#Add the encoded column to the dataset\n",
    "df = pd.concat([df, Term], axis=1)"
   ]
  },
  {
   "cell_type": "code",
   "execution_count": 48,
   "metadata": {},
   "outputs": [],
   "source": [
    "df = pd.concat([df, Yearscurrentjob], axis=1)"
   ]
  },
  {
   "cell_type": "code",
   "execution_count": 49,
   "metadata": {},
   "outputs": [],
   "source": [
    "df = pd.concat([df, home], axis=1)"
   ]
  },
  {
   "cell_type": "code",
   "execution_count": 50,
   "metadata": {},
   "outputs": [],
   "source": [
    "df = pd.concat([df, purpose], axis=1)"
   ]
  },
  {
   "cell_type": "code",
   "execution_count": 51,
   "metadata": {},
   "outputs": [],
   "source": [
    "#Drop the categorical var main dataset as it is no longer required\n",
    "df.drop(['Term', 'Years in current job' , 'Home Ownership' , 'Purpose' ,'Maximum Open Credit'], axis=1, inplace=True)\n"
   ]
  },
  {
   "cell_type": "code",
   "execution_count": 52,
   "metadata": {},
   "outputs": [
    {
     "data": {
      "text/html": [
       "<div>\n",
       "<style scoped>\n",
       "    .dataframe tbody tr th:only-of-type {\n",
       "        vertical-align: middle;\n",
       "    }\n",
       "\n",
       "    .dataframe tbody tr th {\n",
       "        vertical-align: top;\n",
       "    }\n",
       "\n",
       "    .dataframe thead th {\n",
       "        text-align: right;\n",
       "    }\n",
       "</style>\n",
       "<table border=\"1\" class=\"dataframe\">\n",
       "  <thead>\n",
       "    <tr style=\"text-align: right;\">\n",
       "      <th></th>\n",
       "      <th>Loan Status</th>\n",
       "      <th>Current Loan Amount</th>\n",
       "      <th>Credit Score</th>\n",
       "      <th>Annual Income</th>\n",
       "      <th>Monthly Debt</th>\n",
       "      <th>Years of Credit History</th>\n",
       "      <th>Number of Open Accounts</th>\n",
       "      <th>Current Credit Balance</th>\n",
       "      <th>Bankruptcies</th>\n",
       "      <th>Tax Liens</th>\n",
       "      <th>Short Term</th>\n",
       "      <th>10+ years</th>\n",
       "      <th>5-9 yrs</th>\n",
       "      <th>Own Home</th>\n",
       "      <th>Rent</th>\n",
       "      <th>Other</th>\n",
       "    </tr>\n",
       "  </thead>\n",
       "  <tbody>\n",
       "    <tr>\n",
       "      <th>0</th>\n",
       "      <td>0</td>\n",
       "      <td>445412.0</td>\n",
       "      <td>709.0</td>\n",
       "      <td>1167493.0</td>\n",
       "      <td>5214.74</td>\n",
       "      <td>17.2</td>\n",
       "      <td>6.0</td>\n",
       "      <td>228190.0</td>\n",
       "      <td>1.0</td>\n",
       "      <td>0.0</td>\n",
       "      <td>1</td>\n",
       "      <td>0</td>\n",
       "      <td>1</td>\n",
       "      <td>0</td>\n",
       "      <td>0</td>\n",
       "      <td>1</td>\n",
       "    </tr>\n",
       "    <tr>\n",
       "      <th>1</th>\n",
       "      <td>0</td>\n",
       "      <td>262328.0</td>\n",
       "      <td>723.0</td>\n",
       "      <td>1213026.5</td>\n",
       "      <td>33295.98</td>\n",
       "      <td>21.1</td>\n",
       "      <td>35.0</td>\n",
       "      <td>229976.0</td>\n",
       "      <td>0.0</td>\n",
       "      <td>0.0</td>\n",
       "      <td>1</td>\n",
       "      <td>1</td>\n",
       "      <td>0</td>\n",
       "      <td>0</td>\n",
       "      <td>0</td>\n",
       "      <td>0</td>\n",
       "    </tr>\n",
       "    <tr>\n",
       "      <th>2</th>\n",
       "      <td>0</td>\n",
       "      <td>265012.0</td>\n",
       "      <td>741.0</td>\n",
       "      <td>2231892.0</td>\n",
       "      <td>29200.53</td>\n",
       "      <td>14.9</td>\n",
       "      <td>18.0</td>\n",
       "      <td>297996.0</td>\n",
       "      <td>0.0</td>\n",
       "      <td>0.0</td>\n",
       "      <td>1</td>\n",
       "      <td>0</td>\n",
       "      <td>1</td>\n",
       "      <td>1</td>\n",
       "      <td>0</td>\n",
       "      <td>0</td>\n",
       "    </tr>\n",
       "    <tr>\n",
       "      <th>3</th>\n",
       "      <td>0</td>\n",
       "      <td>347666.0</td>\n",
       "      <td>721.0</td>\n",
       "      <td>806949.0</td>\n",
       "      <td>8741.90</td>\n",
       "      <td>12.0</td>\n",
       "      <td>9.0</td>\n",
       "      <td>256329.0</td>\n",
       "      <td>0.0</td>\n",
       "      <td>0.0</td>\n",
       "      <td>0</td>\n",
       "      <td>0</td>\n",
       "      <td>0</td>\n",
       "      <td>1</td>\n",
       "      <td>0</td>\n",
       "      <td>0</td>\n",
       "    </tr>\n",
       "    <tr>\n",
       "      <th>4</th>\n",
       "      <td>0</td>\n",
       "      <td>176220.0</td>\n",
       "      <td>723.0</td>\n",
       "      <td>1213026.5</td>\n",
       "      <td>20639.70</td>\n",
       "      <td>6.1</td>\n",
       "      <td>15.0</td>\n",
       "      <td>253460.0</td>\n",
       "      <td>0.0</td>\n",
       "      <td>0.0</td>\n",
       "      <td>1</td>\n",
       "      <td>0</td>\n",
       "      <td>1</td>\n",
       "      <td>0</td>\n",
       "      <td>1</td>\n",
       "      <td>0</td>\n",
       "    </tr>\n",
       "  </tbody>\n",
       "</table>\n",
       "</div>"
      ],
      "text/plain": [
       "   Loan Status  Current Loan Amount  Credit Score  Annual Income  \\\n",
       "0            0             445412.0         709.0      1167493.0   \n",
       "1            0             262328.0         723.0      1213026.5   \n",
       "2            0             265012.0         741.0      2231892.0   \n",
       "3            0             347666.0         721.0       806949.0   \n",
       "4            0             176220.0         723.0      1213026.5   \n",
       "\n",
       "   Monthly Debt  Years of Credit History  Number of Open Accounts  \\\n",
       "0       5214.74                     17.2                      6.0   \n",
       "1      33295.98                     21.1                     35.0   \n",
       "2      29200.53                     14.9                     18.0   \n",
       "3       8741.90                     12.0                      9.0   \n",
       "4      20639.70                      6.1                     15.0   \n",
       "\n",
       "   Current Credit Balance  Bankruptcies  Tax Liens  Short Term  10+ years  \\\n",
       "0                228190.0           1.0        0.0           1          0   \n",
       "1                229976.0           0.0        0.0           1          1   \n",
       "2                297996.0           0.0        0.0           1          0   \n",
       "3                256329.0           0.0        0.0           0          0   \n",
       "4                253460.0           0.0        0.0           1          0   \n",
       "\n",
       "   5-9 yrs  Own Home  Rent  Other  \n",
       "0        1         0     0      1  \n",
       "1        0         0     0      0  \n",
       "2        1         1     0      0  \n",
       "3        0         1     0      0  \n",
       "4        1         0     1      0  "
      ]
     },
     "execution_count": 52,
     "metadata": {},
     "output_type": "execute_result"
    }
   ],
   "source": [
    "df.head()"
   ]
  },
  {
   "cell_type": "code",
   "execution_count": 53,
   "metadata": {},
   "outputs": [],
   "source": [
    "df2 = df[df.columns[0:8]] \n",
    "fully_paid1 = df2[df2['Loan Status']==0]\n",
    "charged_off1 = df2[df2['Loan Status']==1]\n",
    "df_headers1 = df2.columns.values"
   ]
  },
  {
   "cell_type": "code",
   "execution_count": 54,
   "metadata": {},
   "outputs": [
    {
     "data": {
      "image/png": "[encoded data removed]",
      "text/plain": [
       "<Figure size 1440x864 with 8 Axes>"
      ]
     },
     "metadata": {
      "needs_background": "light"
     },
     "output_type": "display_data"
    }
   ],
   "source": [
    "# kernel density estimation (KDE) is a non-parametric way to estimate the probability density function of a random variable.\n",
    "i = 1\n",
    "\n",
    "fig, ax = plt.subplots(2,4,figsize=(20,12))\n",
    "for df_headers1 in df_headers1:    \n",
    "    plt.subplot(2,4,i)\n",
    "    sns.kdeplot(fully_paid1[df_headers1], bw = 0.2, label = \"Fully Paid\", shade=True, color=\"r\")\n",
    "    sns.kdeplot(charged_off1[df_headers1], bw = 0.2, label = \"Charged off\", shade=True, color= \"y\")\n",
    "    plt.title(df_headers1, fontsize=12)\n",
    "    i = i + 1\n",
    "plt.show();"
   ]
  },
  {
   "cell_type": "code",
   "execution_count": 55,
   "metadata": {},
   "outputs": [],
   "source": [
    "#Normalize all the numerical variables\n",
    "from sklearn.preprocessing import StandardScaler\n",
    "sc = StandardScaler()\n",
    "df['Current Credit Balance'] = sc.fit_transform(df['Current Credit Balance'].values.reshape(-1,1))\n",
    "df['Number of Open Accounts'] = sc.fit_transform(df['Number of Open Accounts'].values.reshape(-1,1))\n",
    "df['Years of Credit History'] = sc.fit_transform(df['Years of Credit History'].values.reshape(-1,1))\n",
    "df['Monthly Debt'] = sc.fit_transform(df['Monthly Debt'].values.reshape(-1,1))\n",
    "df['Credit Score'] = sc.fit_transform(df['Credit Score'].values.reshape(-1,1))\n",
    "df['Annual Income'] = sc.fit_transform(df['Annual Income'].values.reshape(-1,1))\n",
    "df['Current Loan Amount'] = sc.fit_transform(df['Current Loan Amount'].values.reshape(-1,1))\n",
    "\n",
    "\n"
   ]
  },
  {
   "cell_type": "code",
   "execution_count": 56,
   "metadata": {},
   "outputs": [
    {
     "data": {
      "text/html": [
       "<div>\n",
       "<style scoped>\n",
       "    .dataframe tbody tr th:only-of-type {\n",
       "        vertical-align: middle;\n",
       "    }\n",
       "\n",
       "    .dataframe tbody tr th {\n",
       "        vertical-align: top;\n",
       "    }\n",
       "\n",
       "    .dataframe thead th {\n",
       "        text-align: right;\n",
       "    }\n",
       "</style>\n",
       "<table border=\"1\" class=\"dataframe\">\n",
       "  <thead>\n",
       "    <tr style=\"text-align: right;\">\n",
       "      <th></th>\n",
       "      <th>Loan Status</th>\n",
       "      <th>Current Loan Amount</th>\n",
       "      <th>Credit Score</th>\n",
       "      <th>Annual Income</th>\n",
       "      <th>Monthly Debt</th>\n",
       "      <th>Years of Credit History</th>\n",
       "      <th>Number of Open Accounts</th>\n",
       "      <th>Current Credit Balance</th>\n",
       "      <th>Bankruptcies</th>\n",
       "      <th>Tax Liens</th>\n",
       "      <th>Short Term</th>\n",
       "      <th>10+ years</th>\n",
       "      <th>5-9 yrs</th>\n",
       "      <th>Own Home</th>\n",
       "      <th>Rent</th>\n",
       "      <th>Other</th>\n",
       "    </tr>\n",
       "  </thead>\n",
       "  <tbody>\n",
       "    <tr>\n",
       "      <th>0</th>\n",
       "      <td>0</td>\n",
       "      <td>0.769407</td>\n",
       "      <td>-0.352811</td>\n",
       "      <td>-0.191331</td>\n",
       "      <td>-1.102757</td>\n",
       "      <td>-0.117634</td>\n",
       "      <td>-1.032353</td>\n",
       "      <td>-0.181761</td>\n",
       "      <td>1.0</td>\n",
       "      <td>0.0</td>\n",
       "      <td>1</td>\n",
       "      <td>0</td>\n",
       "      <td>1</td>\n",
       "      <td>0</td>\n",
       "      <td>0</td>\n",
       "      <td>1</td>\n",
       "    </tr>\n",
       "    <tr>\n",
       "      <th>1</th>\n",
       "      <td>0</td>\n",
       "      <td>-0.268953</td>\n",
       "      <td>0.213764</td>\n",
       "      <td>-0.145274</td>\n",
       "      <td>1.193086</td>\n",
       "      <td>0.455558</td>\n",
       "      <td>4.744319</td>\n",
       "      <td>-0.177039</td>\n",
       "      <td>0.0</td>\n",
       "      <td>0.0</td>\n",
       "      <td>1</td>\n",
       "      <td>1</td>\n",
       "      <td>0</td>\n",
       "      <td>0</td>\n",
       "      <td>0</td>\n",
       "      <td>0</td>\n",
       "    </tr>\n",
       "    <tr>\n",
       "      <th>2</th>\n",
       "      <td>0</td>\n",
       "      <td>-0.253730</td>\n",
       "      <td>0.942218</td>\n",
       "      <td>0.885295</td>\n",
       "      <td>0.858254</td>\n",
       "      <td>-0.455670</td>\n",
       "      <td>1.357994</td>\n",
       "      <td>0.002775</td>\n",
       "      <td>0.0</td>\n",
       "      <td>0.0</td>\n",
       "      <td>1</td>\n",
       "      <td>0</td>\n",
       "      <td>1</td>\n",
       "      <td>1</td>\n",
       "      <td>0</td>\n",
       "      <td>0</td>\n",
       "    </tr>\n",
       "    <tr>\n",
       "      <th>3</th>\n",
       "      <td>0</td>\n",
       "      <td>0.215041</td>\n",
       "      <td>0.132825</td>\n",
       "      <td>-0.556016</td>\n",
       "      <td>-0.814386</td>\n",
       "      <td>-0.881890</td>\n",
       "      <td>-0.434766</td>\n",
       "      <td>-0.107374</td>\n",
       "      <td>0.0</td>\n",
       "      <td>0.0</td>\n",
       "      <td>0</td>\n",
       "      <td>0</td>\n",
       "      <td>0</td>\n",
       "      <td>1</td>\n",
       "      <td>0</td>\n",
       "      <td>0</td>\n",
       "    </tr>\n",
       "    <tr>\n",
       "      <th>4</th>\n",
       "      <td>0</td>\n",
       "      <td>-0.757313</td>\n",
       "      <td>0.213764</td>\n",
       "      <td>-0.145274</td>\n",
       "      <td>0.158344</td>\n",
       "      <td>-1.749027</td>\n",
       "      <td>0.760407</td>\n",
       "      <td>-0.114958</td>\n",
       "      <td>0.0</td>\n",
       "      <td>0.0</td>\n",
       "      <td>1</td>\n",
       "      <td>0</td>\n",
       "      <td>1</td>\n",
       "      <td>0</td>\n",
       "      <td>1</td>\n",
       "      <td>0</td>\n",
       "    </tr>\n",
       "  </tbody>\n",
       "</table>\n",
       "</div>"
      ],
      "text/plain": [
       "   Loan Status  Current Loan Amount  Credit Score  Annual Income  \\\n",
       "0            0             0.769407     -0.352811      -0.191331   \n",
       "1            0            -0.268953      0.213764      -0.145274   \n",
       "2            0            -0.253730      0.942218       0.885295   \n",
       "3            0             0.215041      0.132825      -0.556016   \n",
       "4            0            -0.757313      0.213764      -0.145274   \n",
       "\n",
       "   Monthly Debt  Years of Credit History  Number of Open Accounts  \\\n",
       "0     -1.102757                -0.117634                -1.032353   \n",
       "1      1.193086                 0.455558                 4.744319   \n",
       "2      0.858254                -0.455670                 1.357994   \n",
       "3     -0.814386                -0.881890                -0.434766   \n",
       "4      0.158344                -1.749027                 0.760407   \n",
       "\n",
       "   Current Credit Balance  Bankruptcies  Tax Liens  Short Term  10+ years  \\\n",
       "0               -0.181761           1.0        0.0           1          0   \n",
       "1               -0.177039           0.0        0.0           1          1   \n",
       "2                0.002775           0.0        0.0           1          0   \n",
       "3               -0.107374           0.0        0.0           0          0   \n",
       "4               -0.114958           0.0        0.0           1          0   \n",
       "\n",
       "   5-9 yrs  Own Home  Rent  Other  \n",
       "0        1         0     0      1  \n",
       "1        0         0     0      0  \n",
       "2        1         1     0      0  \n",
       "3        0         1     0      0  \n",
       "4        1         0     1      0  "
      ]
     },
     "execution_count": 56,
     "metadata": {},
     "output_type": "execute_result"
    }
   ],
   "source": [
    "df.head(5)"
   ]
  },
  {
   "cell_type": "code",
   "execution_count": 57,
   "metadata": {},
   "outputs": [],
   "source": [
    "df1 = df[df.columns[0:8]] "
   ]
  },
  {
   "cell_type": "code",
   "execution_count": 58,
   "metadata": {},
   "outputs": [],
   "source": [
    "fully_paid = df1[df1['Loan Status']==0]"
   ]
  },
  {
   "cell_type": "code",
   "execution_count": 59,
   "metadata": {},
   "outputs": [],
   "source": [
    "charged_off = df1[df1['Loan Status']==1]"
   ]
  },
  {
   "cell_type": "code",
   "execution_count": 60,
   "metadata": {},
   "outputs": [],
   "source": [
    "df_headers = df1.columns.values"
   ]
  },
  {
   "cell_type": "code",
   "execution_count": 61,
   "metadata": {},
   "outputs": [
    {
     "data": {
      "image/png": "[encoded data removed]",
      "text/plain": [
       "<Figure size 1440x864 with 8 Axes>"
      ]
     },
     "metadata": {
      "needs_background": "light"
     },
     "output_type": "display_data"
    }
   ],
   "source": [
    "# Kernel Density Estimation plots encode the density of observations on one axis with height along the other axis:\n",
    "i = 1\n",
    "\n",
    "fig, ax = plt.subplots(2,4,figsize=(20,12))\n",
    "for df_headers in df_headers:    \n",
    "    plt.subplot(2,4,i)\n",
    "    sns.kdeplot(fully_paid[df_headers],bw = 0.2, label = \"Fully Paid\", shade=True, color=\"r\")\n",
    "    sns.kdeplot(charged_off[df_headers], bw = 0.2, label = \"Charged off\", shade=True, color= \"y\")\n",
    "    plt.title(df_headers, fontsize=12)\n",
    "    i = i + 1\n",
    "plt.show();"
   ]
  },
  {
   "cell_type": "code",
   "execution_count": null,
   "metadata": {},
   "outputs": [],
   "source": []
  },
  {
   "cell_type": "code",
   "execution_count": 62,
   "metadata": {},
   "outputs": [],
   "source": [
    "#Drop the target coloumn before we do train test split\n",
    "X = df.drop('Loan Status',axis=1).values\n",
    "y = df['Loan Status'].values\n",
    "X1 = df.drop('Loan Status',axis=1)\n",
    "y1 = df['Loan Status']"
   ]
  },
  {
   "cell_type": "code",
   "execution_count": 63,
   "metadata": {},
   "outputs": [
    {
     "data": {
      "text/plain": [
       "0   -0.352811\n",
       "1    0.213764\n",
       "2    0.942218\n",
       "3    0.132825\n",
       "4    0.213764\n",
       "Name: Credit Score, dtype: float64"
      ]
     },
     "execution_count": 63,
     "metadata": {},
     "output_type": "execute_result"
    }
   ],
   "source": [
    "X1['Credit Score'].head(5)"
   ]
  },
  {
   "cell_type": "code",
   "execution_count": 64,
   "metadata": {},
   "outputs": [],
   "source": [
    "col = ['Current Loan Amount', 'Credit Score', 'Annual Income',\n",
    "       'Monthly Debt', 'Years of Credit History', 'Number of Open Accounts',\n",
    "       'Current Credit Balance', 'Bankruptcies', 'Tax Liens', 'Short Term',\n",
    "       '10+ years', '5-9 yrs', 'Own Home', 'Rent', 'Other']\n",
    "coly = ['Loan Status']"
   ]
  },
  {
   "cell_type": "code",
   "execution_count": 65,
   "metadata": {},
   "outputs": [],
   "source": [
    "# Feature Scaling(Time spent and salary)\n",
    "#from sklearn.preprocessing import StandardScaler\n",
    "#sc = StandardScaler()\n",
    "#X = sc.fit_transform(X)"
   ]
  },
  {
   "cell_type": "code",
   "execution_count": 66,
   "metadata": {},
   "outputs": [],
   "source": [
    "#SMOTE analysis\n",
    "#The target class is highely imbalanced. thus we apply smote analysis\n",
    "#from collections import Counter\n",
    "#from sklearn.datasets import make_classification\n",
    "#from imblearn.over_sampling import SMOTE # doctest: +NORMALIZE_WHITESPACE\n",
    "#X, y = make_classification(n_classes=2, class_sep=2,weights=[0.1, 0.9], n_informative=3, n_redundant=1, flip_y=0,n_features=20, n_clusters_per_class=1, n_samples=77271, random_state=10)\n",
    "#sm = SMOTE(random_state=42)\n",
    "#X_res, y_res = sm.fit_sample(X, y)\n"
   ]
  },
  {
   "cell_type": "markdown",
   "metadata": {},
   "source": [
    "# Training the Model"
   ]
  },
  {
   "cell_type": "code",
   "execution_count": 152,
   "metadata": {},
   "outputs": [],
   "source": [
    "from sklearn.model_selection import train_test_split"
   ]
  },
  {
   "cell_type": "code",
   "execution_count": 190,
   "metadata": {},
   "outputs": [],
   "source": [
    "X_train, X_test, y_train, y_test = train_test_split(X, y, test_size=0.3, random_state=10)\n"
   ]
  },
  {
   "cell_type": "code",
   "execution_count": 191,
   "metadata": {},
   "outputs": [
    {
     "data": {
      "text/html": [
       "<div>\n",
       "<style scoped>\n",
       "    .dataframe tbody tr th:only-of-type {\n",
       "        vertical-align: middle;\n",
       "    }\n",
       "\n",
       "    .dataframe tbody tr th {\n",
       "        vertical-align: top;\n",
       "    }\n",
       "\n",
       "    .dataframe thead th {\n",
       "        text-align: right;\n",
       "    }\n",
       "</style>\n",
       "<table border=\"1\" class=\"dataframe\">\n",
       "  <thead>\n",
       "    <tr style=\"text-align: right;\">\n",
       "      <th></th>\n",
       "      <th>0</th>\n",
       "      <th>1</th>\n",
       "      <th>2</th>\n",
       "      <th>3</th>\n",
       "      <th>4</th>\n",
       "      <th>5</th>\n",
       "      <th>6</th>\n",
       "      <th>7</th>\n",
       "      <th>8</th>\n",
       "      <th>9</th>\n",
       "      <th>10</th>\n",
       "      <th>11</th>\n",
       "      <th>12</th>\n",
       "      <th>13</th>\n",
       "      <th>14</th>\n",
       "    </tr>\n",
       "  </thead>\n",
       "  <tbody>\n",
       "    <tr>\n",
       "      <th>0</th>\n",
       "      <td>0.769407</td>\n",
       "      <td>-0.352811</td>\n",
       "      <td>-0.191331</td>\n",
       "      <td>-1.102757</td>\n",
       "      <td>-0.117634</td>\n",
       "      <td>-1.032353</td>\n",
       "      <td>-0.181761</td>\n",
       "      <td>1.0</td>\n",
       "      <td>0.0</td>\n",
       "      <td>1.0</td>\n",
       "      <td>0.0</td>\n",
       "      <td>1.0</td>\n",
       "      <td>0.0</td>\n",
       "      <td>0.0</td>\n",
       "      <td>1.0</td>\n",
       "    </tr>\n",
       "    <tr>\n",
       "      <th>1</th>\n",
       "      <td>-0.268953</td>\n",
       "      <td>0.213764</td>\n",
       "      <td>-0.145274</td>\n",
       "      <td>1.193086</td>\n",
       "      <td>0.455558</td>\n",
       "      <td>4.744319</td>\n",
       "      <td>-0.177039</td>\n",
       "      <td>0.0</td>\n",
       "      <td>0.0</td>\n",
       "      <td>1.0</td>\n",
       "      <td>1.0</td>\n",
       "      <td>0.0</td>\n",
       "      <td>0.0</td>\n",
       "      <td>0.0</td>\n",
       "      <td>0.0</td>\n",
       "    </tr>\n",
       "    <tr>\n",
       "      <th>2</th>\n",
       "      <td>-0.253730</td>\n",
       "      <td>0.942218</td>\n",
       "      <td>0.885295</td>\n",
       "      <td>0.858254</td>\n",
       "      <td>-0.455670</td>\n",
       "      <td>1.357994</td>\n",
       "      <td>0.002775</td>\n",
       "      <td>0.0</td>\n",
       "      <td>0.0</td>\n",
       "      <td>1.0</td>\n",
       "      <td>0.0</td>\n",
       "      <td>1.0</td>\n",
       "      <td>1.0</td>\n",
       "      <td>0.0</td>\n",
       "      <td>0.0</td>\n",
       "    </tr>\n",
       "    <tr>\n",
       "      <th>3</th>\n",
       "      <td>0.215041</td>\n",
       "      <td>0.132825</td>\n",
       "      <td>-0.556016</td>\n",
       "      <td>-0.814386</td>\n",
       "      <td>-0.881890</td>\n",
       "      <td>-0.434766</td>\n",
       "      <td>-0.107374</td>\n",
       "      <td>0.0</td>\n",
       "      <td>0.0</td>\n",
       "      <td>0.0</td>\n",
       "      <td>0.0</td>\n",
       "      <td>0.0</td>\n",
       "      <td>1.0</td>\n",
       "      <td>0.0</td>\n",
       "      <td>0.0</td>\n",
       "    </tr>\n",
       "    <tr>\n",
       "      <th>4</th>\n",
       "      <td>-0.757313</td>\n",
       "      <td>0.213764</td>\n",
       "      <td>-0.145274</td>\n",
       "      <td>0.158344</td>\n",
       "      <td>-1.749027</td>\n",
       "      <td>0.760407</td>\n",
       "      <td>-0.114958</td>\n",
       "      <td>0.0</td>\n",
       "      <td>0.0</td>\n",
       "      <td>1.0</td>\n",
       "      <td>0.0</td>\n",
       "      <td>1.0</td>\n",
       "      <td>0.0</td>\n",
       "      <td>1.0</td>\n",
       "      <td>0.0</td>\n",
       "    </tr>\n",
       "  </tbody>\n",
       "</table>\n",
       "</div>"
      ],
      "text/plain": [
       "         0         1         2         3         4         5         6    7   \\\n",
       "0  0.769407 -0.352811 -0.191331 -1.102757 -0.117634 -1.032353 -0.181761  1.0   \n",
       "1 -0.268953  0.213764 -0.145274  1.193086  0.455558  4.744319 -0.177039  0.0   \n",
       "2 -0.253730  0.942218  0.885295  0.858254 -0.455670  1.357994  0.002775  0.0   \n",
       "3  0.215041  0.132825 -0.556016 -0.814386 -0.881890 -0.434766 -0.107374  0.0   \n",
       "4 -0.757313  0.213764 -0.145274  0.158344 -1.749027  0.760407 -0.114958  0.0   \n",
       "\n",
       "    8    9    10   11   12   13   14  \n",
       "0  0.0  1.0  0.0  1.0  0.0  0.0  1.0  \n",
       "1  0.0  1.0  1.0  0.0  0.0  0.0  0.0  \n",
       "2  0.0  1.0  0.0  1.0  1.0  0.0  0.0  \n",
       "3  0.0  0.0  0.0  0.0  1.0  0.0  0.0  \n",
       "4  0.0  1.0  0.0  1.0  0.0  1.0  0.0  "
      ]
     },
     "execution_count": 191,
     "metadata": {},
     "output_type": "execute_result"
    }
   ],
   "source": [
    "yy = pd.DataFrame(X)\n",
    "yy.head(5)\n",
    "                \n",
    "                  \n",
    "                  \n",
    "                  \n",
    "        "
   ]
  },
  {
   "cell_type": "code",
   "execution_count": 192,
   "metadata": {},
   "outputs": [],
   "source": [
    "#SMOTE analysis\n",
    "#The target class is highely imbalanced. thus we apply smote analysis\n",
    "from collections import Counter\n",
    "from sklearn.datasets import make_classification\n",
    "from imblearn.over_sampling import SMOTE # doctest: +NORMALIZE_WHITESPACE\n",
    "X_train, y_train = make_classification(n_classes=2, class_sep=2,weights=[0.3, 0.7], n_informative=3, n_redundant=1, flip_y=0,n_features=15, n_clusters_per_class=1, n_samples= 50000, random_state=10)\n",
    "sm = SMOTE(random_state=42)\n",
    "X_train, y_train = sm.fit_sample(X_train, y_train)"
   ]
  },
  {
   "cell_type": "code",
   "execution_count": 193,
   "metadata": {},
   "outputs": [
    {
     "data": {
      "text/plain": [
       "LogisticRegression(C=1.0, class_weight=None, dual=False, fit_intercept=True,\n",
       "          intercept_scaling=1, max_iter=100, multi_class='ovr', n_jobs=1,\n",
       "          penalty='l2', random_state=0, solver='liblinear', tol=0.0001,\n",
       "          verbose=0, warm_start=False)"
      ]
     },
     "execution_count": 193,
     "metadata": {},
     "output_type": "execute_result"
    }
   ],
   "source": [
    "# Fitting Logistic Regression to the Training set\n",
    "from sklearn.linear_model import LogisticRegression\n",
    "classifier = LogisticRegression(random_state = 0)\n",
    "classifier.fit(X_train, y_train)"
   ]
  },
  {
   "cell_type": "code",
   "execution_count": 194,
   "metadata": {},
   "outputs": [
    {
     "data": {
      "text/html": [
       "<div>\n",
       "<style scoped>\n",
       "    .dataframe tbody tr th:only-of-type {\n",
       "        vertical-align: middle;\n",
       "    }\n",
       "\n",
       "    .dataframe tbody tr th {\n",
       "        vertical-align: top;\n",
       "    }\n",
       "\n",
       "    .dataframe thead th {\n",
       "        text-align: right;\n",
       "    }\n",
       "</style>\n",
       "<table border=\"1\" class=\"dataframe\">\n",
       "  <thead>\n",
       "    <tr style=\"text-align: right;\">\n",
       "      <th></th>\n",
       "      <th>0</th>\n",
       "      <th>1</th>\n",
       "      <th>2</th>\n",
       "      <th>3</th>\n",
       "      <th>4</th>\n",
       "      <th>5</th>\n",
       "      <th>6</th>\n",
       "      <th>7</th>\n",
       "      <th>8</th>\n",
       "      <th>9</th>\n",
       "      <th>10</th>\n",
       "      <th>11</th>\n",
       "      <th>12</th>\n",
       "      <th>13</th>\n",
       "      <th>14</th>\n",
       "    </tr>\n",
       "  </thead>\n",
       "  <tbody>\n",
       "    <tr>\n",
       "      <th>0</th>\n",
       "      <td>-0.933118</td>\n",
       "      <td>1.185035</td>\n",
       "      <td>-0.532954</td>\n",
       "      <td>-0.782883</td>\n",
       "      <td>-1.249321</td>\n",
       "      <td>-1.032353</td>\n",
       "      <td>-0.591766</td>\n",
       "      <td>0.0</td>\n",
       "      <td>0.0</td>\n",
       "      <td>1.0</td>\n",
       "      <td>0.0</td>\n",
       "      <td>1.0</td>\n",
       "      <td>0.0</td>\n",
       "      <td>1.0</td>\n",
       "      <td>0.0</td>\n",
       "    </tr>\n",
       "    <tr>\n",
       "      <th>1</th>\n",
       "      <td>-0.488178</td>\n",
       "      <td>0.982687</td>\n",
       "      <td>-0.715720</td>\n",
       "      <td>-1.042672</td>\n",
       "      <td>-0.646734</td>\n",
       "      <td>-1.430744</td>\n",
       "      <td>-0.718741</td>\n",
       "      <td>0.0</td>\n",
       "      <td>0.0</td>\n",
       "      <td>1.0</td>\n",
       "      <td>0.0</td>\n",
       "      <td>0.0</td>\n",
       "      <td>0.0</td>\n",
       "      <td>1.0</td>\n",
       "      <td>1.0</td>\n",
       "    </tr>\n",
       "    <tr>\n",
       "      <th>2</th>\n",
       "      <td>0.698536</td>\n",
       "      <td>0.699400</td>\n",
       "      <td>0.367382</td>\n",
       "      <td>-0.358514</td>\n",
       "      <td>0.720108</td>\n",
       "      <td>0.162821</td>\n",
       "      <td>-0.382720</td>\n",
       "      <td>0.0</td>\n",
       "      <td>0.0</td>\n",
       "      <td>0.0</td>\n",
       "      <td>1.0</td>\n",
       "      <td>0.0</td>\n",
       "      <td>0.0</td>\n",
       "      <td>0.0</td>\n",
       "      <td>0.0</td>\n",
       "    </tr>\n",
       "    <tr>\n",
       "      <th>3</th>\n",
       "      <td>-1.378308</td>\n",
       "      <td>-1.526430</td>\n",
       "      <td>-0.789403</td>\n",
       "      <td>-0.912746</td>\n",
       "      <td>-1.499174</td>\n",
       "      <td>-0.633962</td>\n",
       "      <td>-0.708846</td>\n",
       "      <td>0.0</td>\n",
       "      <td>0.0</td>\n",
       "      <td>1.0</td>\n",
       "      <td>0.0</td>\n",
       "      <td>0.0</td>\n",
       "      <td>0.0</td>\n",
       "      <td>1.0</td>\n",
       "      <td>1.0</td>\n",
       "    </tr>\n",
       "    <tr>\n",
       "      <th>4</th>\n",
       "      <td>0.104243</td>\n",
       "      <td>-0.029054</td>\n",
       "      <td>0.003600</td>\n",
       "      <td>-0.259501</td>\n",
       "      <td>-0.734918</td>\n",
       "      <td>-0.235571</td>\n",
       "      <td>-0.199089</td>\n",
       "      <td>0.0</td>\n",
       "      <td>0.0</td>\n",
       "      <td>0.0</td>\n",
       "      <td>0.0</td>\n",
       "      <td>1.0</td>\n",
       "      <td>0.0</td>\n",
       "      <td>1.0</td>\n",
       "      <td>0.0</td>\n",
       "    </tr>\n",
       "  </tbody>\n",
       "</table>\n",
       "</div>"
      ],
      "text/plain": [
       "         0         1         2         3         4         5         6    7   \\\n",
       "0 -0.933118  1.185035 -0.532954 -0.782883 -1.249321 -1.032353 -0.591766  0.0   \n",
       "1 -0.488178  0.982687 -0.715720 -1.042672 -0.646734 -1.430744 -0.718741  0.0   \n",
       "2  0.698536  0.699400  0.367382 -0.358514  0.720108  0.162821 -0.382720  0.0   \n",
       "3 -1.378308 -1.526430 -0.789403 -0.912746 -1.499174 -0.633962 -0.708846  0.0   \n",
       "4  0.104243 -0.029054  0.003600 -0.259501 -0.734918 -0.235571 -0.199089  0.0   \n",
       "\n",
       "    8    9    10   11   12   13   14  \n",
       "0  0.0  1.0  0.0  1.0  0.0  1.0  0.0  \n",
       "1  0.0  1.0  0.0  0.0  0.0  1.0  1.0  \n",
       "2  0.0  0.0  1.0  0.0  0.0  0.0  0.0  \n",
       "3  0.0  1.0  0.0  0.0  0.0  1.0  1.0  \n",
       "4  0.0  0.0  0.0  1.0  0.0  1.0  0.0  "
      ]
     },
     "execution_count": 194,
     "metadata": {},
     "output_type": "execute_result"
    }
   ],
   "source": [
    "yy = pd.DataFrame(X_test)\n",
    "yy.head()"
   ]
  },
  {
   "cell_type": "code",
   "execution_count": 195,
   "metadata": {},
   "outputs": [
    {
     "data": {
      "text/plain": [
       "array([1, 1, 1, ..., 0, 0, 0])"
      ]
     },
     "execution_count": 195,
     "metadata": {},
     "output_type": "execute_result"
    }
   ],
   "source": [
    "y_predict_train = classifier.predict(X_train)\n",
    "y_predict_train"
   ]
  },
  {
   "cell_type": "code",
   "execution_count": 196,
   "metadata": {
    "scrolled": true
   },
   "outputs": [
    {
     "data": {
      "text/plain": [
       "<matplotlib.axes._subplots.AxesSubplot at 0x1cebd735630>"
      ]
     },
     "execution_count": 196,
     "metadata": {},
     "output_type": "execute_result"
    },
    {
     "data": {
      "image/png": "[encoded data removed]",
      "text/plain": [
       "<Figure size 432x288 with 2 Axes>"
      ]
     },
     "metadata": {
      "needs_background": "light"
     },
     "output_type": "display_data"
    }
   ],
   "source": [
    "from sklearn.metrics import classification_report, confusion_matrix\n",
    "cm = confusion_matrix(y_train, y_predict_train)\n",
    "sns.heatmap(cm, annot=True, fmt=\"d\")"
   ]
  },
  {
   "cell_type": "code",
   "execution_count": 197,
   "metadata": {},
   "outputs": [
    {
     "name": "stdout",
     "output_type": "stream",
     "text": [
      "             precision    recall  f1-score   support\n",
      "\n",
      "          0       0.98      0.97      0.98     35000\n",
      "          1       0.97      0.98      0.98     35000\n",
      "\n",
      "avg / total       0.98      0.98      0.98     70000\n",
      "\n"
     ]
    }
   ],
   "source": [
    "print(classification_report(y_train,y_predict_train))"
   ]
  },
  {
   "cell_type": "code",
   "execution_count": 198,
   "metadata": {},
   "outputs": [
    {
     "data": {
      "text/html": [
       "<div>\n",
       "<style scoped>\n",
       "    .dataframe tbody tr th:only-of-type {\n",
       "        vertical-align: middle;\n",
       "    }\n",
       "\n",
       "    .dataframe tbody tr th {\n",
       "        vertical-align: top;\n",
       "    }\n",
       "\n",
       "    .dataframe thead th {\n",
       "        text-align: right;\n",
       "    }\n",
       "</style>\n",
       "<table border=\"1\" class=\"dataframe\">\n",
       "  <thead>\n",
       "    <tr style=\"text-align: right;\">\n",
       "      <th></th>\n",
       "      <th>0</th>\n",
       "      <th>1</th>\n",
       "      <th>2</th>\n",
       "      <th>3</th>\n",
       "      <th>4</th>\n",
       "      <th>5</th>\n",
       "      <th>6</th>\n",
       "      <th>7</th>\n",
       "      <th>8</th>\n",
       "      <th>9</th>\n",
       "      <th>10</th>\n",
       "      <th>11</th>\n",
       "      <th>12</th>\n",
       "      <th>13</th>\n",
       "      <th>14</th>\n",
       "    </tr>\n",
       "  </thead>\n",
       "  <tbody>\n",
       "    <tr>\n",
       "      <th>0</th>\n",
       "      <td>0.769407</td>\n",
       "      <td>-0.352811</td>\n",
       "      <td>-0.191331</td>\n",
       "      <td>-1.102757</td>\n",
       "      <td>-0.117634</td>\n",
       "      <td>-1.032353</td>\n",
       "      <td>-0.181761</td>\n",
       "      <td>1.0</td>\n",
       "      <td>0.0</td>\n",
       "      <td>1.0</td>\n",
       "      <td>0.0</td>\n",
       "      <td>1.0</td>\n",
       "      <td>0.0</td>\n",
       "      <td>0.0</td>\n",
       "      <td>1.0</td>\n",
       "    </tr>\n",
       "    <tr>\n",
       "      <th>1</th>\n",
       "      <td>-0.268953</td>\n",
       "      <td>0.213764</td>\n",
       "      <td>-0.145274</td>\n",
       "      <td>1.193086</td>\n",
       "      <td>0.455558</td>\n",
       "      <td>4.744319</td>\n",
       "      <td>-0.177039</td>\n",
       "      <td>0.0</td>\n",
       "      <td>0.0</td>\n",
       "      <td>1.0</td>\n",
       "      <td>1.0</td>\n",
       "      <td>0.0</td>\n",
       "      <td>0.0</td>\n",
       "      <td>0.0</td>\n",
       "      <td>0.0</td>\n",
       "    </tr>\n",
       "    <tr>\n",
       "      <th>2</th>\n",
       "      <td>-0.253730</td>\n",
       "      <td>0.942218</td>\n",
       "      <td>0.885295</td>\n",
       "      <td>0.858254</td>\n",
       "      <td>-0.455670</td>\n",
       "      <td>1.357994</td>\n",
       "      <td>0.002775</td>\n",
       "      <td>0.0</td>\n",
       "      <td>0.0</td>\n",
       "      <td>1.0</td>\n",
       "      <td>0.0</td>\n",
       "      <td>1.0</td>\n",
       "      <td>1.0</td>\n",
       "      <td>0.0</td>\n",
       "      <td>0.0</td>\n",
       "    </tr>\n",
       "    <tr>\n",
       "      <th>3</th>\n",
       "      <td>0.215041</td>\n",
       "      <td>0.132825</td>\n",
       "      <td>-0.556016</td>\n",
       "      <td>-0.814386</td>\n",
       "      <td>-0.881890</td>\n",
       "      <td>-0.434766</td>\n",
       "      <td>-0.107374</td>\n",
       "      <td>0.0</td>\n",
       "      <td>0.0</td>\n",
       "      <td>0.0</td>\n",
       "      <td>0.0</td>\n",
       "      <td>0.0</td>\n",
       "      <td>1.0</td>\n",
       "      <td>0.0</td>\n",
       "      <td>0.0</td>\n",
       "    </tr>\n",
       "    <tr>\n",
       "      <th>4</th>\n",
       "      <td>-0.757313</td>\n",
       "      <td>0.213764</td>\n",
       "      <td>-0.145274</td>\n",
       "      <td>0.158344</td>\n",
       "      <td>-1.749027</td>\n",
       "      <td>0.760407</td>\n",
       "      <td>-0.114958</td>\n",
       "      <td>0.0</td>\n",
       "      <td>0.0</td>\n",
       "      <td>1.0</td>\n",
       "      <td>0.0</td>\n",
       "      <td>1.0</td>\n",
       "      <td>0.0</td>\n",
       "      <td>1.0</td>\n",
       "      <td>0.0</td>\n",
       "    </tr>\n",
       "  </tbody>\n",
       "</table>\n",
       "</div>"
      ],
      "text/plain": [
       "         0         1         2         3         4         5         6    7   \\\n",
       "0  0.769407 -0.352811 -0.191331 -1.102757 -0.117634 -1.032353 -0.181761  1.0   \n",
       "1 -0.268953  0.213764 -0.145274  1.193086  0.455558  4.744319 -0.177039  0.0   \n",
       "2 -0.253730  0.942218  0.885295  0.858254 -0.455670  1.357994  0.002775  0.0   \n",
       "3  0.215041  0.132825 -0.556016 -0.814386 -0.881890 -0.434766 -0.107374  0.0   \n",
       "4 -0.757313  0.213764 -0.145274  0.158344 -1.749027  0.760407 -0.114958  0.0   \n",
       "\n",
       "    8    9    10   11   12   13   14  \n",
       "0  0.0  1.0  0.0  1.0  0.0  0.0  1.0  \n",
       "1  0.0  1.0  1.0  0.0  0.0  0.0  0.0  \n",
       "2  0.0  1.0  0.0  1.0  1.0  0.0  0.0  \n",
       "3  0.0  0.0  0.0  0.0  1.0  0.0  0.0  \n",
       "4  0.0  1.0  0.0  1.0  0.0  1.0  0.0  "
      ]
     },
     "execution_count": 198,
     "metadata": {},
     "output_type": "execute_result"
    }
   ],
   "source": [
    "yy = pd.DataFrame(X)\n",
    "yy.head(5)"
   ]
  },
  {
   "cell_type": "code",
   "execution_count": 199,
   "metadata": {},
   "outputs": [
    {
     "name": "stdout",
     "output_type": "stream",
     "text": [
      "Warning: Maximum number of iterations has been exceeded.\n",
      "         Current function value: 0.063401\n",
      "         Iterations: 35\n",
      "                          Results: Logit\n",
      "==================================================================\n",
      "Model:                Logit            Pseudo R-squared: 0.909    \n",
      "Dependent Variable:   y                AIC:              8904.1967\n",
      "Date:                 2019-06-16 16:33 BIC:              9032.3842\n",
      "No. Observations:     70000            Log-Likelihood:   -4438.1  \n",
      "Df Model:             13               LL-Null:          -48520.  \n",
      "Df Residuals:         69986            LLR p-value:      0.0000   \n",
      "Converged:            0.0000           Scale:            1.0000   \n",
      "No. Iterations:       35.0000                                     \n",
      "------------------------------------------------------------------\n",
      "     Coef.    Std.Err.      z    P>|z|      [0.025       0.975]   \n",
      "------------------------------------------------------------------\n",
      "x1   0.4409  641217.6094  0.0000 1.0000 -1256762.9798 1256763.8616\n",
      "x2   2.8084  895558.4335  0.0000 1.0000 -1755259.4674 1755265.0842\n",
      "x3  -0.0606       0.0291 -2.0835 0.0372       -0.1177      -0.0036\n",
      "x4  -0.0204       0.0291 -0.7000 0.4839       -0.0775       0.0367\n",
      "x5  -0.0090       0.0280 -0.3220 0.7474       -0.0639       0.0459\n",
      "x6   0.0073       0.0282  0.2598 0.7950       -0.0479       0.0626\n",
      "x7  -0.4722  158056.0983 -0.0000 1.0000  -309784.7324  309783.7879\n",
      "x8  -1.7032 1354520.6931 -0.0000 1.0000 -2654813.4780 2654810.0717\n",
      "x9  -0.0349       0.0288 -1.2112 0.2258       -0.0914       0.0216\n",
      "x10  0.0520       0.0293  1.7783 0.0754       -0.0053       0.1094\n",
      "x11  0.0103       0.0288  0.3585 0.7200       -0.0462       0.0669\n",
      "x12  0.0034       0.0295  0.1152 0.9083       -0.0544       0.0612\n",
      "x13 -0.0559       0.0289 -1.9351 0.0530       -0.1125       0.0007\n",
      "x14 -0.0613       0.0291 -2.1049 0.0353       -0.1183      -0.0042\n",
      "x15  0.0101       0.0293  0.3437 0.7310       -0.0473       0.0674\n",
      "==================================================================\n",
      "\n"
     ]
    },
    {
     "name": "stderr",
     "output_type": "stream",
     "text": [
      "C:\\Users\\Arjun Achuthan\\Anaconda3\\lib\\site-packages\\statsmodels\\base\\model.py:508: ConvergenceWarning: Maximum Likelihood optimization failed to converge. Check mle_retvals\n",
      "  \"Check mle_retvals\", ConvergenceWarning)\n"
     ]
    }
   ],
   "source": [
    "import statsmodels.api as sm\n",
    "logit_model=sm.Logit(y_train,X_train)\n",
    "result=logit_model.fit()\n",
    "print(result.summary2())"
   ]
  },
  {
   "cell_type": "code",
   "execution_count": null,
   "metadata": {},
   "outputs": [],
   "source": []
  },
  {
   "cell_type": "code",
   "execution_count": null,
   "metadata": {},
   "outputs": [],
   "source": []
  },
  {
   "cell_type": "code",
   "execution_count": 200,
   "metadata": {
    "scrolled": true
   },
   "outputs": [
    {
     "data": {
      "text/plain": [
       "array([1, 1, 0, ..., 0, 0, 0])"
      ]
     },
     "execution_count": 200,
     "metadata": {},
     "output_type": "execute_result"
    }
   ],
   "source": [
    "y_predict_test = classifier.predict(X_test)\n",
    "y_predict_test"
   ]
  },
  {
   "cell_type": "code",
   "execution_count": 201,
   "metadata": {},
   "outputs": [
    {
     "data": {
      "text/plain": [
       "<matplotlib.axes._subplots.AxesSubplot at 0x1cebd86b2b0>"
      ]
     },
     "execution_count": 201,
     "metadata": {},
     "output_type": "execute_result"
    },
    {
     "data": {
      "image/png": "[encoded data removed]",
      "text/plain": [
       "<Figure size 432x288 with 2 Axes>"
      ]
     },
     "metadata": {
      "needs_background": "light"
     },
     "output_type": "display_data"
    }
   ],
   "source": [
    "cm = confusion_matrix(y_test, y_predict_test)\n",
    "sns.heatmap(cm, annot=True, fmt=\"d\")"
   ]
  },
  {
   "cell_type": "code",
   "execution_count": 186,
   "metadata": {},
   "outputs": [
    {
     "name": "stdout",
     "output_type": "stream",
     "text": [
      "             precision    recall  f1-score   support\n",
      "\n",
      "          0       0.75      0.75      0.75      7507\n",
      "          1       0.11      0.12      0.12      2071\n",
      "\n",
      "avg / total       0.62      0.61      0.61      9578\n",
      "\n"
     ]
    }
   ],
   "source": [
    "print(classification_report(y_test,y_predict_test))"
   ]
  },
  {
   "cell_type": "code",
   "execution_count": null,
   "metadata": {},
   "outputs": [],
   "source": []
  },
  {
   "cell_type": "markdown",
   "metadata": {},
   "source": [
    "# Model Improvement\n",
    "\n"
   ]
  },
  {
   "cell_type": "code",
   "execution_count": 187,
   "metadata": {},
   "outputs": [
    {
     "data": {
      "text/plain": [
       "-6.551130015691245"
      ]
     },
     "execution_count": 187,
     "metadata": {},
     "output_type": "execute_result"
    }
   ],
   "source": [
    "min_train = X_train.min()\n",
    "min_train"
   ]
  },
  {
   "cell_type": "code",
   "execution_count": 188,
   "metadata": {},
   "outputs": [
    {
     "data": {
      "text/plain": [
       "12.80632057047226"
      ]
     },
     "execution_count": 188,
     "metadata": {},
     "output_type": "execute_result"
    }
   ],
   "source": [
    "range_train = (X_train - min_train).max()\n",
    "range_train"
   ]
  },
  {
   "cell_type": "code",
   "execution_count": 189,
   "metadata": {},
   "outputs": [],
   "source": [
    "X_train_scaled = (X_train - min_train)/range_train"
   ]
  },
  {
   "cell_type": "code",
   "execution_count": 138,
   "metadata": {},
   "outputs": [
    {
     "data": {
      "text/plain": [
       "array([[0.31771513, 0.60556696, 0.6790268 , ..., 0.54396448, 0.55120565,\n",
       "        0.52363618],\n",
       "       [0.358665  , 0.6416822 , 0.52689099, ..., 0.42725865, 0.53760124,\n",
       "        0.48888041],\n",
       "       [0.30881502, 0.64537137, 0.53133212, ..., 0.63847979, 0.56614205,\n",
       "        0.43272036],\n",
       "       ...,\n",
       "       [0.37622881, 0.37968161, 0.56904001, ..., 0.53272897, 0.40677054,\n",
       "        0.46352038],\n",
       "       [0.36163538, 0.37625854, 0.41783277, ..., 0.47831957, 0.46296987,\n",
       "        0.43057616],\n",
       "       [0.33814811, 0.42333693, 0.33066524, ..., 0.51397685, 0.49315666,\n",
       "        0.59331302]])"
      ]
     },
     "execution_count": 138,
     "metadata": {},
     "output_type": "execute_result"
    }
   ],
   "source": [
    "X_train_scaled"
   ]
  },
  {
   "cell_type": "code",
   "execution_count": 139,
   "metadata": {},
   "outputs": [],
   "source": [
    "min_test = X_test.min()\n",
    "range_test = (X_test - min_test).max()\n",
    "X_test_scaled = (X_test - min_test)/range_test"
   ]
  },
  {
   "cell_type": "code",
   "execution_count": 140,
   "metadata": {},
   "outputs": [
    {
     "data": {
      "text/plain": [
       "SVC(C=1.0, cache_size=200, class_weight=None, coef0=0.0,\n",
       "  decision_function_shape='ovr', degree=3, gamma='auto', kernel='rbf',\n",
       "  max_iter=-1, probability=False, random_state=None, shrinking=True,\n",
       "  tol=0.001, verbose=False)"
      ]
     },
     "execution_count": 140,
     "metadata": {},
     "output_type": "execute_result"
    }
   ],
   "source": [
    "from sklearn.svm import SVC \n",
    "from sklearn.metrics import classification_report, confusion_matrix\n",
    "\n",
    "svc_model = SVC()\n",
    "svc_model.fit(X_train_scaled, y_train)\n",
    "\n"
   ]
  },
  {
   "cell_type": "code",
   "execution_count": 141,
   "metadata": {},
   "outputs": [
    {
     "data": {
      "text/plain": [
       "<matplotlib.axes._subplots.AxesSubplot at 0x1cebc0125c0>"
      ]
     },
     "execution_count": 141,
     "metadata": {},
     "output_type": "execute_result"
    },
    {
     "data": {
      "image/png": "[encoded data removed]",
      "text/plain": [
       "<Figure size 432x288 with 2 Axes>"
      ]
     },
     "metadata": {
      "needs_background": "light"
     },
     "output_type": "display_data"
    }
   ],
   "source": [
    "y_predict = svc_model.predict(X_test_scaled)\n",
    "cm = confusion_matrix(y_test, y_predict)\n",
    "\n",
    "sns.heatmap(cm,annot=True,fmt=\"d\")"
   ]
  },
  {
   "cell_type": "code",
   "execution_count": 142,
   "metadata": {},
   "outputs": [
    {
     "name": "stdout",
     "output_type": "stream",
     "text": [
      "             precision    recall  f1-score   support\n",
      "\n",
      "          0       0.78      1.00      0.88      7507\n",
      "          1       0.00      0.00      0.00      2071\n",
      "\n",
      "avg / total       0.61      0.78      0.69      9578\n",
      "\n"
     ]
    }
   ],
   "source": [
    "print(classification_report(y_test,y_predict))"
   ]
  },
  {
   "cell_type": "code",
   "execution_count": 143,
   "metadata": {},
   "outputs": [
    {
     "data": {
      "text/plain": [
       "LogisticRegression(C=1.0, class_weight=None, dual=False, fit_intercept=True,\n",
       "          intercept_scaling=1, max_iter=100, multi_class='ovr', n_jobs=1,\n",
       "          penalty='l2', random_state=0, solver='liblinear', tol=0.0001,\n",
       "          verbose=0, warm_start=False)"
      ]
     },
     "execution_count": 143,
     "metadata": {},
     "output_type": "execute_result"
    }
   ],
   "source": [
    "# Fitting Logistic Regression to the Training set\n",
    "from sklearn.linear_model import LogisticRegression\n",
    "classifier = LogisticRegression(random_state = 0)\n",
    "classifier.fit(X_train_scaled, y_train)"
   ]
  },
  {
   "cell_type": "code",
   "execution_count": 144,
   "metadata": {},
   "outputs": [
    {
     "data": {
      "text/plain": [
       "<matplotlib.axes._subplots.AxesSubplot at 0x1cebc096668>"
      ]
     },
     "execution_count": 144,
     "metadata": {},
     "output_type": "execute_result"
    },
    {
     "data": {
      "image/png": "[encoded data removed]",
      "text/plain": [
       "<Figure size 432x288 with 2 Axes>"
      ]
     },
     "metadata": {
      "needs_background": "light"
     },
     "output_type": "display_data"
    }
   ],
   "source": [
    "y_predict = svc_model.predict(X_test_scaled)\n",
    "cm = confusion_matrix(y_test, y_predict)\n",
    "\n",
    "sns.heatmap(cm,annot=True,fmt=\"d\")"
   ]
  },
  {
   "cell_type": "code",
   "execution_count": null,
   "metadata": {},
   "outputs": [],
   "source": []
  },
  {
   "cell_type": "code",
   "execution_count": null,
   "metadata": {},
   "outputs": [],
   "source": []
  },
  {
   "cell_type": "code",
   "execution_count": null,
   "metadata": {},
   "outputs": [],
   "source": []
  },
  {
   "cell_type": "code",
   "execution_count": null,
   "metadata": {},
   "outputs": [],
   "source": []
  },
  {
   "cell_type": "code",
   "execution_count": null,
   "metadata": {},
   "outputs": [],
   "source": []
  }
 ],
 "metadata": {
  "kernelspec": {
   "display_name": "Python 3",
   "language": "python",
   "name": "python3"
  },
  "language_info": {
   "codemirror_mode": {
    "name": "ipython",
    "version": 3
   },
   "file_extension": ".py",
   "mimetype": "text/x-python",
   "name": "python",
   "nbconvert_exporter": "python",
   "pygments_lexer": "ipython3",
   "version": "3.7.3"
  }
 },
 "nbformat": 4,
 "nbformat_minor": 2
}
